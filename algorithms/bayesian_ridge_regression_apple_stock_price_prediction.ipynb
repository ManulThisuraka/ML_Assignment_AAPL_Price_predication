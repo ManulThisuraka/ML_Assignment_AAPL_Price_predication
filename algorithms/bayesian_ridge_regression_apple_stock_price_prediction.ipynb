{
 "cells": [
  {
   "cell_type": "markdown",
   "id": "2550e298",
   "metadata": {},
   "source": [
    "# APPL Stock Price Prediction Using Different Machine Learning Models and Compare the Performance of the Models"
   ]
  },
  {
   "cell_type": "markdown",
   "id": "7aaee72a",
   "metadata": {},
   "source": [
    "# Bayesian Ridge Regression "
   ]
  },
  {
   "cell_type": "markdown",
   "id": "3d86b4bd",
   "metadata": {},
   "source": [
    "Bayesian regression allows a natural mechanism to survive insufficient data or poorly distributed data by formulating linear regression using probability distributors rather than point estimates."
   ]
  },
  {
   "cell_type": "markdown",
   "id": "9288a879",
   "metadata": {},
   "source": [
    "# Import Libraries"
   ]
  },
  {
   "cell_type": "code",
   "execution_count": 260,
   "id": "a723c648",
   "metadata": {},
   "outputs": [
    {
     "name": "stdout",
     "output_type": "stream",
     "text": [
      "Requirement already satisfied: yfinance in c:\\users\\user\\anaconda3\\lib\\site-packages (0.2.17)\n",
      "Requirement already satisfied: cryptography>=3.3.2 in c:\\users\\user\\anaconda3\\lib\\site-packages (from yfinance) (37.0.1)\n",
      "Requirement already satisfied: requests>=2.26 in c:\\users\\user\\anaconda3\\lib\\site-packages (from yfinance) (2.28.1)\n",
      "Requirement already satisfied: beautifulsoup4>=4.11.1 in c:\\users\\user\\anaconda3\\lib\\site-packages (from yfinance) (4.11.1)\n",
      "Requirement already satisfied: lxml>=4.9.1 in c:\\users\\user\\anaconda3\\lib\\site-packages (from yfinance) (4.9.1)\n",
      "Requirement already satisfied: pandas>=1.3.0 in c:\\users\\user\\anaconda3\\lib\\site-packages (from yfinance) (1.4.4)\n",
      "Requirement already satisfied: appdirs>=1.4.4 in c:\\users\\user\\anaconda3\\lib\\site-packages (from yfinance) (1.4.4)\n",
      "Requirement already satisfied: html5lib>=1.1 in c:\\users\\user\\anaconda3\\lib\\site-packages (from yfinance) (1.1)\n",
      "Requirement already satisfied: frozendict>=2.3.4 in c:\\users\\user\\anaconda3\\lib\\site-packages (from yfinance) (2.3.7)\n",
      "Requirement already satisfied: numpy>=1.16.5 in c:\\users\\user\\anaconda3\\lib\\site-packages (from yfinance) (1.21.5)\n",
      "Requirement already satisfied: pytz>=2022.5 in c:\\users\\user\\anaconda3\\lib\\site-packages (from yfinance) (2023.3)\n",
      "Requirement already satisfied: multitasking>=0.0.7 in c:\\users\\user\\anaconda3\\lib\\site-packages (from yfinance) (0.0.11)\n",
      "Requirement already satisfied: soupsieve>1.2 in c:\\users\\user\\anaconda3\\lib\\site-packages (from beautifulsoup4>=4.11.1->yfinance) (2.3.1)\n",
      "Requirement already satisfied: cffi>=1.12 in c:\\users\\user\\anaconda3\\lib\\site-packages (from cryptography>=3.3.2->yfinance) (1.15.1)\n",
      "Requirement already satisfied: six>=1.9 in c:\\users\\user\\anaconda3\\lib\\site-packages (from html5lib>=1.1->yfinance) (1.16.0)\n",
      "Requirement already satisfied: webencodings in c:\\users\\user\\anaconda3\\lib\\site-packages (from html5lib>=1.1->yfinance) (0.5.1)\n",
      "Requirement already satisfied: python-dateutil>=2.8.1 in c:\\users\\user\\anaconda3\\lib\\site-packages (from pandas>=1.3.0->yfinance) (2.8.2)\n",
      "Requirement already satisfied: urllib3<1.27,>=1.21.1 in c:\\users\\user\\anaconda3\\lib\\site-packages (from requests>=2.26->yfinance) (1.26.11)\n",
      "Requirement already satisfied: charset-normalizer<3,>=2 in c:\\users\\user\\anaconda3\\lib\\site-packages (from requests>=2.26->yfinance) (2.0.4)\n",
      "Requirement already satisfied: idna<4,>=2.5 in c:\\users\\user\\anaconda3\\lib\\site-packages (from requests>=2.26->yfinance) (3.3)\n",
      "Requirement already satisfied: certifi>=2017.4.17 in c:\\users\\user\\anaconda3\\lib\\site-packages (from requests>=2.26->yfinance) (2022.9.14)\n",
      "Requirement already satisfied: pycparser in c:\\users\\user\\anaconda3\\lib\\site-packages (from cffi>=1.12->cryptography>=3.3.2->yfinance) (2.21)\n"
     ]
    }
   ],
   "source": [
    "# yahoo_finance is used to fetch data \n",
    "!pip install yfinance"
   ]
  },
  {
   "cell_type": "code",
   "execution_count": 261,
   "id": "964c4ab8",
   "metadata": {},
   "outputs": [],
   "source": [
    "# Import Libraries\n",
    "import numpy as np\n",
    "import matplotlib.pyplot as plt\n",
    "import pandas as pd\n",
    "\n",
    "import warnings\n",
    "warnings.filterwarnings(\"ignore\")\n",
    "\n",
    "# yahoo_finance is used to fetch data \n",
    "import yfinance as yf\n",
    "yf.pdr_override()\n",
    "\n",
    "# MATPLOTLIB & SEABORN FOR GRAPH-PLOTTING\n",
    "import matplotlib.pyplot as plt\n",
    "import seaborn as sns\n",
    "%matplotlib inline"
   ]
  },
  {
   "cell_type": "markdown",
   "id": "1ebf3283",
   "metadata": {},
   "source": [
    "# Load Data into the Data Frame"
   ]
  },
  {
   "cell_type": "code",
   "execution_count": 262,
   "id": "cb2473a7",
   "metadata": {},
   "outputs": [
    {
     "name": "stdout",
     "output_type": "stream",
     "text": [
      "[*********************100%***********************]  1 of 1 completed\n"
     ]
    },
    {
     "data": {
      "text/html": [
       "<div>\n",
       "<style scoped>\n",
       "    .dataframe tbody tr th:only-of-type {\n",
       "        vertical-align: middle;\n",
       "    }\n",
       "\n",
       "    .dataframe tbody tr th {\n",
       "        vertical-align: top;\n",
       "    }\n",
       "\n",
       "    .dataframe thead th {\n",
       "        text-align: right;\n",
       "    }\n",
       "</style>\n",
       "<table border=\"1\" class=\"dataframe\">\n",
       "  <thead>\n",
       "    <tr style=\"text-align: right;\">\n",
       "      <th></th>\n",
       "      <th>Open</th>\n",
       "      <th>High</th>\n",
       "      <th>Low</th>\n",
       "      <th>Close</th>\n",
       "      <th>Adj Close</th>\n",
       "      <th>Volume</th>\n",
       "    </tr>\n",
       "    <tr>\n",
       "      <th>Date</th>\n",
       "      <th></th>\n",
       "      <th></th>\n",
       "      <th></th>\n",
       "      <th></th>\n",
       "      <th></th>\n",
       "      <th></th>\n",
       "    </tr>\n",
       "  </thead>\n",
       "  <tbody>\n",
       "    <tr>\n",
       "      <th>1980-12-12</th>\n",
       "      <td>0.128348</td>\n",
       "      <td>0.128906</td>\n",
       "      <td>0.128348</td>\n",
       "      <td>0.128348</td>\n",
       "      <td>0.099722</td>\n",
       "      <td>469033600</td>\n",
       "    </tr>\n",
       "    <tr>\n",
       "      <th>1980-12-15</th>\n",
       "      <td>0.122210</td>\n",
       "      <td>0.122210</td>\n",
       "      <td>0.121652</td>\n",
       "      <td>0.121652</td>\n",
       "      <td>0.094519</td>\n",
       "      <td>175884800</td>\n",
       "    </tr>\n",
       "    <tr>\n",
       "      <th>1980-12-16</th>\n",
       "      <td>0.113281</td>\n",
       "      <td>0.113281</td>\n",
       "      <td>0.112723</td>\n",
       "      <td>0.112723</td>\n",
       "      <td>0.087582</td>\n",
       "      <td>105728000</td>\n",
       "    </tr>\n",
       "    <tr>\n",
       "      <th>1980-12-17</th>\n",
       "      <td>0.115513</td>\n",
       "      <td>0.116071</td>\n",
       "      <td>0.115513</td>\n",
       "      <td>0.115513</td>\n",
       "      <td>0.089749</td>\n",
       "      <td>86441600</td>\n",
       "    </tr>\n",
       "    <tr>\n",
       "      <th>1980-12-18</th>\n",
       "      <td>0.118862</td>\n",
       "      <td>0.119420</td>\n",
       "      <td>0.118862</td>\n",
       "      <td>0.118862</td>\n",
       "      <td>0.092351</td>\n",
       "      <td>73449600</td>\n",
       "    </tr>\n",
       "  </tbody>\n",
       "</table>\n",
       "</div>"
      ],
      "text/plain": [
       "                Open      High       Low     Close  Adj Close     Volume\n",
       "Date                                                                    \n",
       "1980-12-12  0.128348  0.128906  0.128348  0.128348   0.099722  469033600\n",
       "1980-12-15  0.122210  0.122210  0.121652  0.121652   0.094519  175884800\n",
       "1980-12-16  0.113281  0.113281  0.112723  0.112723   0.087582  105728000\n",
       "1980-12-17  0.115513  0.116071  0.115513  0.115513   0.089749   86441600\n",
       "1980-12-18  0.118862  0.119420  0.118862  0.118862   0.092351   73449600"
      ]
     },
     "execution_count": 262,
     "metadata": {},
     "output_type": "execute_result"
    }
   ],
   "source": [
    "# input\n",
    "symbol = 'AAPL'\n",
    "start = '1980-01-01'\n",
    "end = '2023-01-01'\n",
    "\n",
    "# Read data \n",
    "dataset = yf.download(symbol,start,end)\n",
    "\n",
    "# View Columns\n",
    "dataset.head()"
   ]
  },
  {
   "cell_type": "markdown",
   "id": "1443a003",
   "metadata": {},
   "source": [
    "# Data Preprocessing"
   ]
  },
  {
   "cell_type": "code",
   "execution_count": 263,
   "id": "2a97c2d9",
   "metadata": {},
   "outputs": [
    {
     "data": {
      "text/html": [
       "<div>\n",
       "<style scoped>\n",
       "    .dataframe tbody tr th:only-of-type {\n",
       "        vertical-align: middle;\n",
       "    }\n",
       "\n",
       "    .dataframe tbody tr th {\n",
       "        vertical-align: top;\n",
       "    }\n",
       "\n",
       "    .dataframe thead th {\n",
       "        text-align: right;\n",
       "    }\n",
       "</style>\n",
       "<table border=\"1\" class=\"dataframe\">\n",
       "  <thead>\n",
       "    <tr style=\"text-align: right;\">\n",
       "      <th></th>\n",
       "      <th>Open</th>\n",
       "      <th>High</th>\n",
       "      <th>Low</th>\n",
       "      <th>Close</th>\n",
       "      <th>Adj Close</th>\n",
       "      <th>Volume</th>\n",
       "      <th>Increase_Decrease</th>\n",
       "      <th>Buy_Sell_on_Open</th>\n",
       "      <th>Buy_Sell</th>\n",
       "      <th>Returns</th>\n",
       "    </tr>\n",
       "    <tr>\n",
       "      <th>Date</th>\n",
       "      <th></th>\n",
       "      <th></th>\n",
       "      <th></th>\n",
       "      <th></th>\n",
       "      <th></th>\n",
       "      <th></th>\n",
       "      <th></th>\n",
       "      <th></th>\n",
       "      <th></th>\n",
       "      <th></th>\n",
       "    </tr>\n",
       "  </thead>\n",
       "  <tbody>\n",
       "    <tr>\n",
       "      <th>1980-12-15</th>\n",
       "      <td>0.122210</td>\n",
       "      <td>0.122210</td>\n",
       "      <td>0.121652</td>\n",
       "      <td>0.121652</td>\n",
       "      <td>0.094519</td>\n",
       "      <td>175884800</td>\n",
       "      <td>0</td>\n",
       "      <td>0</td>\n",
       "      <td>0</td>\n",
       "      <td>-0.052171</td>\n",
       "    </tr>\n",
       "    <tr>\n",
       "      <th>1980-12-16</th>\n",
       "      <td>0.113281</td>\n",
       "      <td>0.113281</td>\n",
       "      <td>0.112723</td>\n",
       "      <td>0.112723</td>\n",
       "      <td>0.087582</td>\n",
       "      <td>105728000</td>\n",
       "      <td>0</td>\n",
       "      <td>1</td>\n",
       "      <td>1</td>\n",
       "      <td>-0.073398</td>\n",
       "    </tr>\n",
       "    <tr>\n",
       "      <th>1980-12-17</th>\n",
       "      <td>0.115513</td>\n",
       "      <td>0.116071</td>\n",
       "      <td>0.115513</td>\n",
       "      <td>0.115513</td>\n",
       "      <td>0.089749</td>\n",
       "      <td>86441600</td>\n",
       "      <td>0</td>\n",
       "      <td>1</td>\n",
       "      <td>1</td>\n",
       "      <td>0.024751</td>\n",
       "    </tr>\n",
       "    <tr>\n",
       "      <th>1980-12-18</th>\n",
       "      <td>0.118862</td>\n",
       "      <td>0.119420</td>\n",
       "      <td>0.118862</td>\n",
       "      <td>0.118862</td>\n",
       "      <td>0.092351</td>\n",
       "      <td>73449600</td>\n",
       "      <td>0</td>\n",
       "      <td>1</td>\n",
       "      <td>1</td>\n",
       "      <td>0.028993</td>\n",
       "    </tr>\n",
       "    <tr>\n",
       "      <th>1980-12-19</th>\n",
       "      <td>0.126116</td>\n",
       "      <td>0.126674</td>\n",
       "      <td>0.126116</td>\n",
       "      <td>0.126116</td>\n",
       "      <td>0.097987</td>\n",
       "      <td>48630400</td>\n",
       "      <td>0</td>\n",
       "      <td>1</td>\n",
       "      <td>1</td>\n",
       "      <td>0.061028</td>\n",
       "    </tr>\n",
       "  </tbody>\n",
       "</table>\n",
       "</div>"
      ],
      "text/plain": [
       "                Open      High       Low     Close  Adj Close     Volume  \\\n",
       "Date                                                                       \n",
       "1980-12-15  0.122210  0.122210  0.121652  0.121652   0.094519  175884800   \n",
       "1980-12-16  0.113281  0.113281  0.112723  0.112723   0.087582  105728000   \n",
       "1980-12-17  0.115513  0.116071  0.115513  0.115513   0.089749   86441600   \n",
       "1980-12-18  0.118862  0.119420  0.118862  0.118862   0.092351   73449600   \n",
       "1980-12-19  0.126116  0.126674  0.126116  0.126116   0.097987   48630400   \n",
       "\n",
       "            Increase_Decrease  Buy_Sell_on_Open  Buy_Sell   Returns  \n",
       "Date                                                                 \n",
       "1980-12-15                  0                 0         0 -0.052171  \n",
       "1980-12-16                  0                 1         1 -0.073398  \n",
       "1980-12-17                  0                 1         1  0.024751  \n",
       "1980-12-18                  0                 1         1  0.028993  \n",
       "1980-12-19                  0                 1         1  0.061028  "
      ]
     },
     "execution_count": 263,
     "metadata": {},
     "output_type": "execute_result"
    }
   ],
   "source": [
    "dataset['Increase_Decrease'] = np.where(dataset['Volume'].shift(-1) > dataset['Volume'],1,0)\n",
    "dataset['Buy_Sell_on_Open'] = np.where(dataset['Open'].shift(-1) > dataset['Open'],1,0)\n",
    "dataset['Buy_Sell'] = np.where(dataset['Adj Close'].shift(-1) > dataset['Adj Close'],1,0)\n",
    "dataset['Returns'] = dataset['Adj Close'].pct_change()\n",
    "dataset = dataset.dropna()\n",
    "dataset.head()"
   ]
  },
  {
   "cell_type": "code",
   "execution_count": 264,
   "id": "48488a6c",
   "metadata": {},
   "outputs": [
    {
     "data": {
      "text/html": [
       "<div>\n",
       "<style scoped>\n",
       "    .dataframe tbody tr th:only-of-type {\n",
       "        vertical-align: middle;\n",
       "    }\n",
       "\n",
       "    .dataframe tbody tr th {\n",
       "        vertical-align: top;\n",
       "    }\n",
       "\n",
       "    .dataframe thead th {\n",
       "        text-align: right;\n",
       "    }\n",
       "</style>\n",
       "<table border=\"1\" class=\"dataframe\">\n",
       "  <thead>\n",
       "    <tr style=\"text-align: right;\">\n",
       "      <th></th>\n",
       "      <th>Open</th>\n",
       "      <th>High</th>\n",
       "      <th>Low</th>\n",
       "      <th>Close</th>\n",
       "      <th>Adj Close</th>\n",
       "      <th>Volume</th>\n",
       "      <th>Increase_Decrease</th>\n",
       "      <th>Buy_Sell_on_Open</th>\n",
       "      <th>Buy_Sell</th>\n",
       "      <th>Returns</th>\n",
       "    </tr>\n",
       "    <tr>\n",
       "      <th>Date</th>\n",
       "      <th></th>\n",
       "      <th></th>\n",
       "      <th></th>\n",
       "      <th></th>\n",
       "      <th></th>\n",
       "      <th></th>\n",
       "      <th></th>\n",
       "      <th></th>\n",
       "      <th></th>\n",
       "      <th></th>\n",
       "    </tr>\n",
       "  </thead>\n",
       "  <tbody>\n",
       "    <tr>\n",
       "      <th>1980-12-15</th>\n",
       "      <td>0.122210</td>\n",
       "      <td>0.122210</td>\n",
       "      <td>0.121652</td>\n",
       "      <td>0.121652</td>\n",
       "      <td>0.094519</td>\n",
       "      <td>175884800</td>\n",
       "      <td>0</td>\n",
       "      <td>0</td>\n",
       "      <td>0</td>\n",
       "      <td>-0.052171</td>\n",
       "    </tr>\n",
       "    <tr>\n",
       "      <th>1980-12-16</th>\n",
       "      <td>0.113281</td>\n",
       "      <td>0.113281</td>\n",
       "      <td>0.112723</td>\n",
       "      <td>0.112723</td>\n",
       "      <td>0.087582</td>\n",
       "      <td>105728000</td>\n",
       "      <td>0</td>\n",
       "      <td>1</td>\n",
       "      <td>1</td>\n",
       "      <td>-0.073398</td>\n",
       "    </tr>\n",
       "    <tr>\n",
       "      <th>1980-12-17</th>\n",
       "      <td>0.115513</td>\n",
       "      <td>0.116071</td>\n",
       "      <td>0.115513</td>\n",
       "      <td>0.115513</td>\n",
       "      <td>0.089749</td>\n",
       "      <td>86441600</td>\n",
       "      <td>0</td>\n",
       "      <td>1</td>\n",
       "      <td>1</td>\n",
       "      <td>0.024751</td>\n",
       "    </tr>\n",
       "    <tr>\n",
       "      <th>1980-12-18</th>\n",
       "      <td>0.118862</td>\n",
       "      <td>0.119420</td>\n",
       "      <td>0.118862</td>\n",
       "      <td>0.118862</td>\n",
       "      <td>0.092351</td>\n",
       "      <td>73449600</td>\n",
       "      <td>0</td>\n",
       "      <td>1</td>\n",
       "      <td>1</td>\n",
       "      <td>0.028993</td>\n",
       "    </tr>\n",
       "    <tr>\n",
       "      <th>1980-12-19</th>\n",
       "      <td>0.126116</td>\n",
       "      <td>0.126674</td>\n",
       "      <td>0.126116</td>\n",
       "      <td>0.126116</td>\n",
       "      <td>0.097987</td>\n",
       "      <td>48630400</td>\n",
       "      <td>0</td>\n",
       "      <td>1</td>\n",
       "      <td>1</td>\n",
       "      <td>0.061028</td>\n",
       "    </tr>\n",
       "    <tr>\n",
       "      <th>...</th>\n",
       "      <td>...</td>\n",
       "      <td>...</td>\n",
       "      <td>...</td>\n",
       "      <td>...</td>\n",
       "      <td>...</td>\n",
       "      <td>...</td>\n",
       "      <td>...</td>\n",
       "      <td>...</td>\n",
       "      <td>...</td>\n",
       "      <td>...</td>\n",
       "    </tr>\n",
       "    <tr>\n",
       "      <th>2022-12-23</th>\n",
       "      <td>130.919998</td>\n",
       "      <td>132.419998</td>\n",
       "      <td>129.639999</td>\n",
       "      <td>131.860001</td>\n",
       "      <td>131.658981</td>\n",
       "      <td>63814900</td>\n",
       "      <td>1</td>\n",
       "      <td>1</td>\n",
       "      <td>0</td>\n",
       "      <td>-0.002798</td>\n",
       "    </tr>\n",
       "    <tr>\n",
       "      <th>2022-12-27</th>\n",
       "      <td>131.380005</td>\n",
       "      <td>131.410004</td>\n",
       "      <td>128.720001</td>\n",
       "      <td>130.029999</td>\n",
       "      <td>129.831772</td>\n",
       "      <td>69007800</td>\n",
       "      <td>1</td>\n",
       "      <td>0</td>\n",
       "      <td>0</td>\n",
       "      <td>-0.013878</td>\n",
       "    </tr>\n",
       "    <tr>\n",
       "      <th>2022-12-28</th>\n",
       "      <td>129.669998</td>\n",
       "      <td>131.029999</td>\n",
       "      <td>125.870003</td>\n",
       "      <td>126.040001</td>\n",
       "      <td>125.847855</td>\n",
       "      <td>85438400</td>\n",
       "      <td>0</td>\n",
       "      <td>0</td>\n",
       "      <td>1</td>\n",
       "      <td>-0.030685</td>\n",
       "    </tr>\n",
       "    <tr>\n",
       "      <th>2022-12-29</th>\n",
       "      <td>127.989998</td>\n",
       "      <td>130.479996</td>\n",
       "      <td>127.730003</td>\n",
       "      <td>129.610001</td>\n",
       "      <td>129.412415</td>\n",
       "      <td>75703700</td>\n",
       "      <td>1</td>\n",
       "      <td>1</td>\n",
       "      <td>1</td>\n",
       "      <td>0.028324</td>\n",
       "    </tr>\n",
       "    <tr>\n",
       "      <th>2022-12-30</th>\n",
       "      <td>128.410004</td>\n",
       "      <td>129.949997</td>\n",
       "      <td>127.430000</td>\n",
       "      <td>129.929993</td>\n",
       "      <td>129.731918</td>\n",
       "      <td>77034200</td>\n",
       "      <td>0</td>\n",
       "      <td>0</td>\n",
       "      <td>0</td>\n",
       "      <td>0.002469</td>\n",
       "    </tr>\n",
       "  </tbody>\n",
       "</table>\n",
       "<p>10602 rows × 10 columns</p>\n",
       "</div>"
      ],
      "text/plain": [
       "                  Open        High         Low       Close   Adj Close  \\\n",
       "Date                                                                     \n",
       "1980-12-15    0.122210    0.122210    0.121652    0.121652    0.094519   \n",
       "1980-12-16    0.113281    0.113281    0.112723    0.112723    0.087582   \n",
       "1980-12-17    0.115513    0.116071    0.115513    0.115513    0.089749   \n",
       "1980-12-18    0.118862    0.119420    0.118862    0.118862    0.092351   \n",
       "1980-12-19    0.126116    0.126674    0.126116    0.126116    0.097987   \n",
       "...                ...         ...         ...         ...         ...   \n",
       "2022-12-23  130.919998  132.419998  129.639999  131.860001  131.658981   \n",
       "2022-12-27  131.380005  131.410004  128.720001  130.029999  129.831772   \n",
       "2022-12-28  129.669998  131.029999  125.870003  126.040001  125.847855   \n",
       "2022-12-29  127.989998  130.479996  127.730003  129.610001  129.412415   \n",
       "2022-12-30  128.410004  129.949997  127.430000  129.929993  129.731918   \n",
       "\n",
       "               Volume  Increase_Decrease  Buy_Sell_on_Open  Buy_Sell   Returns  \n",
       "Date                                                                            \n",
       "1980-12-15  175884800                  0                 0         0 -0.052171  \n",
       "1980-12-16  105728000                  0                 1         1 -0.073398  \n",
       "1980-12-17   86441600                  0                 1         1  0.024751  \n",
       "1980-12-18   73449600                  0                 1         1  0.028993  \n",
       "1980-12-19   48630400                  0                 1         1  0.061028  \n",
       "...               ...                ...               ...       ...       ...  \n",
       "2022-12-23   63814900                  1                 1         0 -0.002798  \n",
       "2022-12-27   69007800                  1                 0         0 -0.013878  \n",
       "2022-12-28   85438400                  0                 0         1 -0.030685  \n",
       "2022-12-29   75703700                  1                 1         1  0.028324  \n",
       "2022-12-30   77034200                  0                 0         0  0.002469  \n",
       "\n",
       "[10602 rows x 10 columns]"
      ]
     },
     "execution_count": 264,
     "metadata": {},
     "output_type": "execute_result"
    }
   ],
   "source": [
    "#View Dataset\n",
    "dataset"
   ]
  },
  {
   "cell_type": "markdown",
   "id": "b373d601",
   "metadata": {},
   "source": [
    "# Dataset Cleaning and Null Value Testing"
   ]
  },
  {
   "cell_type": "code",
   "execution_count": 265,
   "id": "33b0c7b8",
   "metadata": {},
   "outputs": [
    {
     "data": {
      "text/plain": [
       "Open                 0\n",
       "High                 0\n",
       "Low                  0\n",
       "Close                0\n",
       "Adj Close            0\n",
       "Volume               0\n",
       "Increase_Decrease    0\n",
       "Buy_Sell_on_Open     0\n",
       "Buy_Sell             0\n",
       "Returns              0\n",
       "dtype: int64"
      ]
     },
     "execution_count": 265,
     "metadata": {},
     "output_type": "execute_result"
    }
   ],
   "source": [
    "# See how many null values in each column\n",
    "\n",
    "dataset.isnull().sum()"
   ]
  },
  {
   "cell_type": "code",
   "execution_count": 266,
   "id": "bee7d4db",
   "metadata": {},
   "outputs": [
    {
     "data": {
      "image/png": "[encoded data removed]",
      "text/plain": [
       "<Figure size 1200x400 with 1 Axes>"
      ]
     },
     "metadata": {},
     "output_type": "display_data"
    }
   ],
   "source": [
    "plt.figure(figsize=(12,4))\n",
    "sns.heatmap(dataset.isnull(), yticklabels=False,cbar=False,cmap='viridis')\n",
    "plt.savefig(\"Figure 1: Heatmap for Null Values\")"
   ]
  },
  {
   "cell_type": "markdown",
   "id": "b05f77d9",
   "metadata": {},
   "source": [
    "# Analyze the Data"
   ]
  },
  {
   "cell_type": "code",
   "execution_count": 267,
   "id": "34956c9c",
   "metadata": {},
   "outputs": [
    {
     "data": {
      "text/plain": [
       "(10602, 10)"
      ]
     },
     "execution_count": 267,
     "metadata": {},
     "output_type": "execute_result"
    }
   ],
   "source": [
    "# see number of rows, number of columns\n",
    "dataset.shape"
   ]
  },
  {
   "cell_type": "code",
   "execution_count": 268,
   "id": "0627fd40",
   "metadata": {},
   "outputs": [
    {
     "name": "stdout",
     "output_type": "stream",
     "text": [
      "Total number of records =  106020\n"
     ]
    }
   ],
   "source": [
    "#TOTAL NUMBER OF RECORDS\n",
    "dataset.size\n",
    "print(\"Total number of records = \",dataset.size)"
   ]
  },
  {
   "cell_type": "code",
   "execution_count": 269,
   "id": "10540703",
   "metadata": {},
   "outputs": [
    {
     "data": {
      "text/plain": [
       "Index(['Open', 'High', 'Low', 'Close', 'Adj Close', 'Volume',\n",
       "       'Increase_Decrease', 'Buy_Sell_on_Open', 'Buy_Sell', 'Returns'],\n",
       "      dtype='object')"
      ]
     },
     "execution_count": 269,
     "metadata": {},
     "output_type": "execute_result"
    }
   ],
   "source": [
    "# see columns names\n",
    "\n",
    "dataset.columns"
   ]
  },
  {
   "cell_type": "code",
   "execution_count": 270,
   "id": "c51324fa",
   "metadata": {},
   "outputs": [
    {
     "name": "stdout",
     "output_type": "stream",
     "text": [
      "<class 'pandas.core.frame.DataFrame'>\n",
      "DatetimeIndex: 10602 entries, 1980-12-15 to 2022-12-30\n",
      "Data columns (total 10 columns):\n",
      " #   Column             Non-Null Count  Dtype  \n",
      "---  ------             --------------  -----  \n",
      " 0   Open               10602 non-null  float64\n",
      " 1   High               10602 non-null  float64\n",
      " 2   Low                10602 non-null  float64\n",
      " 3   Close              10602 non-null  float64\n",
      " 4   Adj Close          10602 non-null  float64\n",
      " 5   Volume             10602 non-null  int64  \n",
      " 6   Increase_Decrease  10602 non-null  int32  \n",
      " 7   Buy_Sell_on_Open   10602 non-null  int32  \n",
      " 8   Buy_Sell           10602 non-null  int32  \n",
      " 9   Returns            10602 non-null  float64\n",
      "dtypes: float64(6), int32(3), int64(1)\n",
      "memory usage: 786.9 KB\n"
     ]
    }
   ],
   "source": [
    "#View Data Info\n",
    "dataset.info()"
   ]
  },
  {
   "cell_type": "code",
   "execution_count": 271,
   "id": "57e43789",
   "metadata": {},
   "outputs": [
    {
     "data": {
      "text/plain": [
       "array([[<AxesSubplot:title={'center':'Open'}>,\n",
       "        <AxesSubplot:title={'center':'High'}>,\n",
       "        <AxesSubplot:title={'center':'Low'}>],\n",
       "       [<AxesSubplot:title={'center':'Close'}>,\n",
       "        <AxesSubplot:title={'center':'Adj Close'}>,\n",
       "        <AxesSubplot:title={'center':'Volume'}>],\n",
       "       [<AxesSubplot:title={'center':'Increase_Decrease'}>,\n",
       "        <AxesSubplot:title={'center':'Buy_Sell_on_Open'}>,\n",
       "        <AxesSubplot:title={'center':'Buy_Sell'}>],\n",
       "       [<AxesSubplot:title={'center':'Returns'}>, <AxesSubplot:>,\n",
       "        <AxesSubplot:>]], dtype=object)"
      ]
     },
     "execution_count": 271,
     "metadata": {},
     "output_type": "execute_result"
    },
    {
     "data": {
      "image/png": "[encoded data removed]",
      "text/plain": [
       "<Figure size 1500x1500 with 12 Axes>"
      ]
     },
     "metadata": {},
     "output_type": "display_data"
    }
   ],
   "source": [
    "# Histogram per each numerical column\n",
    "\n",
    "dataset.hist(figsize=(15, 15))"
   ]
  },
  {
   "cell_type": "code",
   "execution_count": 272,
   "id": "b9231b1a",
   "metadata": {
    "scrolled": true
   },
   "outputs": [
    {
     "data": {
      "text/html": [
       "<div>\n",
       "<style scoped>\n",
       "    .dataframe tbody tr th:only-of-type {\n",
       "        vertical-align: middle;\n",
       "    }\n",
       "\n",
       "    .dataframe tbody tr th {\n",
       "        vertical-align: top;\n",
       "    }\n",
       "\n",
       "    .dataframe thead th {\n",
       "        text-align: right;\n",
       "    }\n",
       "</style>\n",
       "<table border=\"1\" class=\"dataframe\">\n",
       "  <thead>\n",
       "    <tr style=\"text-align: right;\">\n",
       "      <th></th>\n",
       "      <th>Open</th>\n",
       "      <th>High</th>\n",
       "      <th>Low</th>\n",
       "      <th>Close</th>\n",
       "      <th>Adj Close</th>\n",
       "      <th>Volume</th>\n",
       "      <th>Increase_Decrease</th>\n",
       "      <th>Buy_Sell_on_Open</th>\n",
       "      <th>Buy_Sell</th>\n",
       "      <th>Returns</th>\n",
       "    </tr>\n",
       "  </thead>\n",
       "  <tbody>\n",
       "    <tr>\n",
       "      <th>count</th>\n",
       "      <td>10602.000000</td>\n",
       "      <td>10602.000000</td>\n",
       "      <td>10602.000000</td>\n",
       "      <td>10602.000000</td>\n",
       "      <td>10602.000000</td>\n",
       "      <td>1.060200e+04</td>\n",
       "      <td>10602.000000</td>\n",
       "      <td>10602.000000</td>\n",
       "      <td>10602.000000</td>\n",
       "      <td>10602.000000</td>\n",
       "    </tr>\n",
       "    <tr>\n",
       "      <th>mean</th>\n",
       "      <td>16.470998</td>\n",
       "      <td>16.658052</td>\n",
       "      <td>16.284922</td>\n",
       "      <td>16.477925</td>\n",
       "      <td>15.783397</td>\n",
       "      <td>3.276539e+08</td>\n",
       "      <td>0.477080</td>\n",
       "      <td>0.495095</td>\n",
       "      <td>0.496227</td>\n",
       "      <td>0.001083</td>\n",
       "    </tr>\n",
       "    <tr>\n",
       "      <th>std</th>\n",
       "      <td>35.131697</td>\n",
       "      <td>35.556418</td>\n",
       "      <td>34.715065</td>\n",
       "      <td>35.150839</td>\n",
       "      <td>34.771360</td>\n",
       "      <td>3.378635e+08</td>\n",
       "      <td>0.499498</td>\n",
       "      <td>0.500000</td>\n",
       "      <td>0.500009</td>\n",
       "      <td>0.028281</td>\n",
       "    </tr>\n",
       "    <tr>\n",
       "      <th>min</th>\n",
       "      <td>0.049665</td>\n",
       "      <td>0.049665</td>\n",
       "      <td>0.049107</td>\n",
       "      <td>0.049107</td>\n",
       "      <td>0.038154</td>\n",
       "      <td>0.000000e+00</td>\n",
       "      <td>0.000000</td>\n",
       "      <td>0.000000</td>\n",
       "      <td>0.000000</td>\n",
       "      <td>-0.518692</td>\n",
       "    </tr>\n",
       "    <tr>\n",
       "      <th>25%</th>\n",
       "      <td>0.287338</td>\n",
       "      <td>0.294643</td>\n",
       "      <td>0.280759</td>\n",
       "      <td>0.287338</td>\n",
       "      <td>0.237186</td>\n",
       "      <td>1.213772e+08</td>\n",
       "      <td>0.000000</td>\n",
       "      <td>0.000000</td>\n",
       "      <td>0.000000</td>\n",
       "      <td>-0.013110</td>\n",
       "    </tr>\n",
       "    <tr>\n",
       "      <th>50%</th>\n",
       "      <td>0.486607</td>\n",
       "      <td>0.493304</td>\n",
       "      <td>0.477679</td>\n",
       "      <td>0.486049</td>\n",
       "      <td>0.402153</td>\n",
       "      <td>2.146984e+08</td>\n",
       "      <td>0.000000</td>\n",
       "      <td>0.000000</td>\n",
       "      <td>0.000000</td>\n",
       "      <td>0.000000</td>\n",
       "    </tr>\n",
       "    <tr>\n",
       "      <th>75%</th>\n",
       "      <td>16.130179</td>\n",
       "      <td>16.309196</td>\n",
       "      <td>15.966607</td>\n",
       "      <td>16.095179</td>\n",
       "      <td>13.897880</td>\n",
       "      <td>4.067266e+08</td>\n",
       "      <td>1.000000</td>\n",
       "      <td>1.000000</td>\n",
       "      <td>1.000000</td>\n",
       "      <td>0.014707</td>\n",
       "    </tr>\n",
       "    <tr>\n",
       "      <th>max</th>\n",
       "      <td>182.630005</td>\n",
       "      <td>182.940002</td>\n",
       "      <td>179.119995</td>\n",
       "      <td>182.009995</td>\n",
       "      <td>180.683868</td>\n",
       "      <td>7.421641e+09</td>\n",
       "      <td>1.000000</td>\n",
       "      <td>1.000000</td>\n",
       "      <td>1.000000</td>\n",
       "      <td>0.332281</td>\n",
       "    </tr>\n",
       "  </tbody>\n",
       "</table>\n",
       "</div>"
      ],
      "text/plain": [
       "               Open          High           Low         Close     Adj Close  \\\n",
       "count  10602.000000  10602.000000  10602.000000  10602.000000  10602.000000   \n",
       "mean      16.470998     16.658052     16.284922     16.477925     15.783397   \n",
       "std       35.131697     35.556418     34.715065     35.150839     34.771360   \n",
       "min        0.049665      0.049665      0.049107      0.049107      0.038154   \n",
       "25%        0.287338      0.294643      0.280759      0.287338      0.237186   \n",
       "50%        0.486607      0.493304      0.477679      0.486049      0.402153   \n",
       "75%       16.130179     16.309196     15.966607     16.095179     13.897880   \n",
       "max      182.630005    182.940002    179.119995    182.009995    180.683868   \n",
       "\n",
       "             Volume  Increase_Decrease  Buy_Sell_on_Open      Buy_Sell  \\\n",
       "count  1.060200e+04       10602.000000      10602.000000  10602.000000   \n",
       "mean   3.276539e+08           0.477080          0.495095      0.496227   \n",
       "std    3.378635e+08           0.499498          0.500000      0.500009   \n",
       "min    0.000000e+00           0.000000          0.000000      0.000000   \n",
       "25%    1.213772e+08           0.000000          0.000000      0.000000   \n",
       "50%    2.146984e+08           0.000000          0.000000      0.000000   \n",
       "75%    4.067266e+08           1.000000          1.000000      1.000000   \n",
       "max    7.421641e+09           1.000000          1.000000      1.000000   \n",
       "\n",
       "            Returns  \n",
       "count  10602.000000  \n",
       "mean       0.001083  \n",
       "std        0.028281  \n",
       "min       -0.518692  \n",
       "25%       -0.013110  \n",
       "50%        0.000000  \n",
       "75%        0.014707  \n",
       "max        0.332281  "
      ]
     },
     "execution_count": 272,
     "metadata": {},
     "output_type": "execute_result"
    }
   ],
   "source": [
    "# The statistics per each column\n",
    "\n",
    "dataset.describe()"
   ]
  },
  {
   "cell_type": "markdown",
   "id": "4704a71f",
   "metadata": {},
   "source": [
    "# Define X and Y"
   ]
  },
  {
   "cell_type": "code",
   "execution_count": 273,
   "id": "ddbc3437",
   "metadata": {},
   "outputs": [],
   "source": [
    "X = dataset['Open'].values.reshape(10602,-1)\n",
    "y = dataset['Adj Close'].values.reshape(10602,-1)"
   ]
  },
  {
   "cell_type": "code",
   "execution_count": 274,
   "id": "9f7f5549",
   "metadata": {},
   "outputs": [
    {
     "data": {
      "text/plain": [
       "BayesianRidge(compute_score=True)"
      ]
     },
     "execution_count": 274,
     "metadata": {},
     "output_type": "execute_result"
    }
   ],
   "source": [
    "from sklearn.linear_model import BayesianRidge, LinearRegression\n",
    "\n",
    "# Fit the Bayesian Ridge Regression and an OLS for comparison\n",
    "model = BayesianRidge(compute_score=True)\n",
    "model.fit(X, y)"
   ]
  },
  {
   "cell_type": "code",
   "execution_count": 275,
   "id": "cfeef4b2",
   "metadata": {},
   "outputs": [
    {
     "data": {
      "text/plain": [
       "array([0.98929718])"
      ]
     },
     "execution_count": 275,
     "metadata": {},
     "output_type": "execute_result"
    }
   ],
   "source": [
    "model.coef_"
   ]
  },
  {
   "cell_type": "code",
   "execution_count": 276,
   "id": "de89355b",
   "metadata": {},
   "outputs": [
    {
     "data": {
      "text/plain": [
       "array([-47376.31166408, -15505.79437194, -15505.7943717 ])"
      ]
     },
     "execution_count": 276,
     "metadata": {},
     "output_type": "execute_result"
    }
   ],
   "source": [
    "model.scores_"
   ]
  },
  {
   "cell_type": "markdown",
   "id": "21ae8fc1",
   "metadata": {},
   "source": [
    "# Split Train Data and Test Data"
   ]
  },
  {
   "cell_type": "code",
   "execution_count": 277,
   "id": "85ae0e2a",
   "metadata": {},
   "outputs": [],
   "source": [
    "from sklearn.model_selection import train_test_split"
   ]
  },
  {
   "cell_type": "code",
   "execution_count": 278,
   "id": "a65d994f",
   "metadata": {},
   "outputs": [],
   "source": [
    "X_train, X_test, y_train, y_test = train_test_split(X, y, test_size = 0.2, random_state = 0)"
   ]
  },
  {
   "cell_type": "markdown",
   "id": "d88a7443",
   "metadata": {},
   "source": [
    "# Dataset Traning and Model Traning"
   ]
  },
  {
   "cell_type": "code",
   "execution_count": 279,
   "id": "38f67ccb",
   "metadata": {},
   "outputs": [
    {
     "data": {
      "text/plain": [
       "BayesianRidge(compute_score=True)"
      ]
     },
     "execution_count": 279,
     "metadata": {},
     "output_type": "execute_result"
    }
   ],
   "source": [
    "model = BayesianRidge(compute_score=True)\n",
    "model.fit(X_train, y_train)"
   ]
  },
  {
   "cell_type": "code",
   "execution_count": 280,
   "id": "3d4cb98d",
   "metadata": {},
   "outputs": [
    {
     "data": {
      "text/plain": [
       "array([0.99000429])"
      ]
     },
     "execution_count": 280,
     "metadata": {},
     "output_type": "execute_result"
    }
   ],
   "source": [
    "model.coef_"
   ]
  },
  {
   "cell_type": "code",
   "execution_count": 281,
   "id": "328eb84c",
   "metadata": {},
   "outputs": [
    {
     "data": {
      "text/plain": [
       "array([-37966.23255919, -12529.4413924 , -12529.44139195])"
      ]
     },
     "execution_count": 281,
     "metadata": {},
     "output_type": "execute_result"
    }
   ],
   "source": [
    "model.scores_"
   ]
  },
  {
   "cell_type": "markdown",
   "id": "c6b0bae0",
   "metadata": {},
   "source": [
    "# Comparison of Actual Values and Predicted Values"
   ]
  },
  {
   "cell_type": "code",
   "execution_count": 282,
   "id": "9eb9abfd",
   "metadata": {},
   "outputs": [],
   "source": [
    "y_pred = model.predict(X_test)"
   ]
  },
  {
   "cell_type": "markdown",
   "id": "09cc536e",
   "metadata": {},
   "source": [
    "# Accuracy and Loss Function Values of the Model"
   ]
  },
  {
   "cell_type": "code",
   "execution_count": 283,
   "id": "434dd8da",
   "metadata": {},
   "outputs": [
    {
     "name": "stdout",
     "output_type": "stream",
     "text": [
      "Mean_Absolute_Error(MAE): 0.7301219165571058\n",
      "Mean_Squared_Error(MSE): 0.9639571485960136\n",
      "Root_Mean_Squared_Error(RMSE): 0.9818131943480968\n"
     ]
    }
   ],
   "source": [
    "from sklearn import metrics\n",
    "print('Mean_Absolute_Error(MAE):', metrics.mean_absolute_error(y_test, y_pred))\n",
    "print('Mean_Squared_Error(MSE):', metrics.mean_squared_error(y_test, y_pred))\n",
    "print('Root_Mean_Squared_Error(RMSE):', np.sqrt(metrics.mean_squared_error(y_test, y_pred)))"
   ]
  },
  {
   "cell_type": "code",
   "execution_count": 284,
   "id": "32b02258",
   "metadata": {},
   "outputs": [
    {
     "name": "stdout",
     "output_type": "stream",
     "text": [
      "Accuracy Score: 0.9991484481836781\n"
     ]
    }
   ],
   "source": [
    "print('Accuracy Score:', model.score(X_test, y_test))"
   ]
  },
  {
   "cell_type": "code",
   "execution_count": null,
   "id": "602b6af6",
   "metadata": {},
   "outputs": [],
   "source": []
  }
 ],
 "metadata": {
  "kernelspec": {
   "display_name": "Python 3 (ipykernel)",
   "language": "python",
   "name": "python3"
  },
  "language_info": {
   "codemirror_mode": {
    "name": "ipython",
    "version": 3
   },
   "file_extension": ".py",
   "mimetype": "text/x-python",
   "name": "python",
   "nbconvert_exporter": "python",
   "pygments_lexer": "ipython3",
   "version": "3.9.13"
  }
 },
 "nbformat": 4,
 "nbformat_minor": 5
}
