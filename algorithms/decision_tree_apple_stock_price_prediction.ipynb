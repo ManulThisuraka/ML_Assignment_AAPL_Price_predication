{
 "cells": [
  {
   "cell_type": "markdown",
   "id": "d7b5ab06",
   "metadata": {},
   "source": [
    "# Stock Price Prediction Using Different Machine Learning Models and Compare the Performance of the Models"
   ]
  },
  {
   "cell_type": "markdown",
   "id": "8e96155c",
   "metadata": {},
   "source": [
    "# Decision Tree Regression"
   ]
  },
  {
   "cell_type": "markdown",
   "id": "21cf1c84",
   "metadata": {},
   "source": [
    "Decision tree builds regression or classification models in the form of a tree structure. It breaks down a dataset into smaller and smaller subsets while at the same time an associated decision tree is incrementally developed. The final result is a tree with decision nodes and leaf nodes."
   ]
  },
  {
   "cell_type": "markdown",
   "id": "43a88eb8",
   "metadata": {},
   "source": [
    "# Import Libraries"
   ]
  },
  {
   "cell_type": "code",
   "execution_count": 1,
   "id": "b13f38f1",
   "metadata": {},
   "outputs": [
    {
     "name": "stdout",
     "output_type": "stream",
     "text": [
      "Requirement already satisfied: yfinance in c:\\users\\bihini amarasinghe\\anaconda3\\lib\\site-packages (0.2.17)\n",
      "Requirement already satisfied: pytz>=2022.5 in c:\\users\\bihini amarasinghe\\anaconda3\\lib\\site-packages (from yfinance) (2023.3)\n",
      "Requirement already satisfied: multitasking>=0.0.7 in c:\\users\\bihini amarasinghe\\anaconda3\\lib\\site-packages (from yfinance) (0.0.11)\n",
      "Requirement already satisfied: frozendict>=2.3.4 in c:\\users\\bihini amarasinghe\\anaconda3\\lib\\site-packages (from yfinance) (2.3.7)\n",
      "Requirement already satisfied: requests>=2.26 in c:\\users\\bihini amarasinghe\\anaconda3\\lib\\site-packages (from yfinance) (2.28.1)\n",
      "Requirement already satisfied: lxml>=4.9.1 in c:\\users\\bihini amarasinghe\\anaconda3\\lib\\site-packages (from yfinance) (4.9.1)\n",
      "Requirement already satisfied: pandas>=1.3.0 in c:\\users\\bihini amarasinghe\\anaconda3\\lib\\site-packages (from yfinance) (1.4.4)\n",
      "Requirement already satisfied: cryptography>=3.3.2 in c:\\users\\bihini amarasinghe\\anaconda3\\lib\\site-packages (from yfinance) (37.0.1)\n",
      "Requirement already satisfied: appdirs>=1.4.4 in c:\\users\\bihini amarasinghe\\anaconda3\\lib\\site-packages (from yfinance) (1.4.4)\n",
      "Requirement already satisfied: beautifulsoup4>=4.11.1 in c:\\users\\bihini amarasinghe\\anaconda3\\lib\\site-packages (from yfinance) (4.11.1)\n",
      "Requirement already satisfied: html5lib>=1.1 in c:\\users\\bihini amarasinghe\\anaconda3\\lib\\site-packages (from yfinance) (1.1)\n",
      "Requirement already satisfied: numpy>=1.16.5 in c:\\users\\bihini amarasinghe\\anaconda3\\lib\\site-packages (from yfinance) (1.21.5)\n",
      "Requirement already satisfied: soupsieve>1.2 in c:\\users\\bihini amarasinghe\\anaconda3\\lib\\site-packages (from beautifulsoup4>=4.11.1->yfinance) (2.3.1)\n",
      "Requirement already satisfied: cffi>=1.12 in c:\\users\\bihini amarasinghe\\anaconda3\\lib\\site-packages (from cryptography>=3.3.2->yfinance) (1.15.1)\n",
      "Requirement already satisfied: webencodings in c:\\users\\bihini amarasinghe\\anaconda3\\lib\\site-packages (from html5lib>=1.1->yfinance) (0.5.1)\n",
      "Requirement already satisfied: six>=1.9 in c:\\users\\bihini amarasinghe\\anaconda3\\lib\\site-packages (from html5lib>=1.1->yfinance) (1.16.0)\n",
      "Requirement already satisfied: python-dateutil>=2.8.1 in c:\\users\\bihini amarasinghe\\anaconda3\\lib\\site-packages (from pandas>=1.3.0->yfinance) (2.8.2)\n",
      "Requirement already satisfied: charset-normalizer<3,>=2 in c:\\users\\bihini amarasinghe\\anaconda3\\lib\\site-packages (from requests>=2.26->yfinance) (2.0.4)\n",
      "Requirement already satisfied: certifi>=2017.4.17 in c:\\users\\bihini amarasinghe\\anaconda3\\lib\\site-packages (from requests>=2.26->yfinance) (2022.9.14)\n",
      "Requirement already satisfied: urllib3<1.27,>=1.21.1 in c:\\users\\bihini amarasinghe\\anaconda3\\lib\\site-packages (from requests>=2.26->yfinance) (1.26.11)\n",
      "Requirement already satisfied: idna<4,>=2.5 in c:\\users\\bihini amarasinghe\\anaconda3\\lib\\site-packages (from requests>=2.26->yfinance) (3.3)\n",
      "Requirement already satisfied: pycparser in c:\\users\\bihini amarasinghe\\anaconda3\\lib\\site-packages (from cffi>=1.12->cryptography>=3.3.2->yfinance) (2.21)\n"
     ]
    }
   ],
   "source": [
    "# yahoo_finance is used to fetch data\n",
    "!pip install yfinance"
   ]
  },
  {
   "cell_type": "code",
   "execution_count": 2,
   "id": "883b9293",
   "metadata": {},
   "outputs": [],
   "source": [
    "# Import Libraries\n",
    "import numpy as np\n",
    "import matplotlib.pyplot as plt\n",
    "import pandas as pd\n",
    "\n",
    "import warnings\n",
    "warnings.filterwarnings(\"ignore\")\n",
    "\n",
    "# yahoo_finance is used to fetch data \n",
    "import yfinance as yf\n",
    "yf.pdr_override()\n",
    "\n",
    "# MATPLOTLIB & SEABORN FOR GRAPH-PLOTTING\n",
    "import matplotlib.pyplot as plt\n",
    "import seaborn as sns\n",
    "%matplotlib inline"
   ]
  },
  {
   "cell_type": "markdown",
   "id": "e4b5939a",
   "metadata": {},
   "source": [
    "# Load Dataset into the Data Frame"
   ]
  },
  {
   "cell_type": "code",
   "execution_count": 3,
   "id": "c60a88cf",
   "metadata": {},
   "outputs": [
    {
     "name": "stdout",
     "output_type": "stream",
     "text": [
      "[*********************100%***********************]  1 of 1 completed\n"
     ]
    },
    {
     "data": {
      "text/html": [
       "<div>\n",
       "<style scoped>\n",
       "    .dataframe tbody tr th:only-of-type {\n",
       "        vertical-align: middle;\n",
       "    }\n",
       "\n",
       "    .dataframe tbody tr th {\n",
       "        vertical-align: top;\n",
       "    }\n",
       "\n",
       "    .dataframe thead th {\n",
       "        text-align: right;\n",
       "    }\n",
       "</style>\n",
       "<table border=\"1\" class=\"dataframe\">\n",
       "  <thead>\n",
       "    <tr style=\"text-align: right;\">\n",
       "      <th></th>\n",
       "      <th>Open</th>\n",
       "      <th>High</th>\n",
       "      <th>Low</th>\n",
       "      <th>Close</th>\n",
       "      <th>Adj Close</th>\n",
       "      <th>Volume</th>\n",
       "    </tr>\n",
       "    <tr>\n",
       "      <th>Date</th>\n",
       "      <th></th>\n",
       "      <th></th>\n",
       "      <th></th>\n",
       "      <th></th>\n",
       "      <th></th>\n",
       "      <th></th>\n",
       "    </tr>\n",
       "  </thead>\n",
       "  <tbody>\n",
       "    <tr>\n",
       "      <th>2003-01-02</th>\n",
       "      <td>0.256429</td>\n",
       "      <td>0.266429</td>\n",
       "      <td>0.256250</td>\n",
       "      <td>0.264286</td>\n",
       "      <td>0.224939</td>\n",
       "      <td>181428800</td>\n",
       "    </tr>\n",
       "    <tr>\n",
       "      <th>2003-01-03</th>\n",
       "      <td>0.264286</td>\n",
       "      <td>0.266607</td>\n",
       "      <td>0.260536</td>\n",
       "      <td>0.266071</td>\n",
       "      <td>0.226458</td>\n",
       "      <td>147453600</td>\n",
       "    </tr>\n",
       "    <tr>\n",
       "      <th>2003-01-06</th>\n",
       "      <td>0.268393</td>\n",
       "      <td>0.274643</td>\n",
       "      <td>0.265714</td>\n",
       "      <td>0.266071</td>\n",
       "      <td>0.226458</td>\n",
       "      <td>390532800</td>\n",
       "    </tr>\n",
       "    <tr>\n",
       "      <th>2003-01-07</th>\n",
       "      <td>0.264107</td>\n",
       "      <td>0.267857</td>\n",
       "      <td>0.258393</td>\n",
       "      <td>0.265179</td>\n",
       "      <td>0.225699</td>\n",
       "      <td>342344800</td>\n",
       "    </tr>\n",
       "    <tr>\n",
       "      <th>2003-01-08</th>\n",
       "      <td>0.260357</td>\n",
       "      <td>0.262679</td>\n",
       "      <td>0.257857</td>\n",
       "      <td>0.259821</td>\n",
       "      <td>0.221138</td>\n",
       "      <td>229644800</td>\n",
       "    </tr>\n",
       "  </tbody>\n",
       "</table>\n",
       "</div>"
      ],
      "text/plain": [
       "                Open      High       Low     Close  Adj Close     Volume\n",
       "Date                                                                    \n",
       "2003-01-02  0.256429  0.266429  0.256250  0.264286   0.224939  181428800\n",
       "2003-01-03  0.264286  0.266607  0.260536  0.266071   0.226458  147453600\n",
       "2003-01-06  0.268393  0.274643  0.265714  0.266071   0.226458  390532800\n",
       "2003-01-07  0.264107  0.267857  0.258393  0.265179   0.225699  342344800\n",
       "2003-01-08  0.260357  0.262679  0.257857  0.259821   0.221138  229644800"
      ]
     },
     "execution_count": 3,
     "metadata": {},
     "output_type": "execute_result"
    }
   ],
   "source": [
    "# input\n",
    "symbol = 'AAPL'\n",
    "start = '2003-01-01'\n",
    "end = '2023-01-01'\n",
    "\n",
    "# Read data \n",
    "dataset = yf.download(symbol,start,end)\n",
    "\n",
    "# View Columns\n",
    "dataset.head()"
   ]
  },
  {
   "cell_type": "markdown",
   "id": "22069beb",
   "metadata": {},
   "source": [
    "# Data Preprocessing"
   ]
  },
  {
   "cell_type": "code",
   "execution_count": 4,
   "id": "7175dc9c",
   "metadata": {},
   "outputs": [
    {
     "data": {
      "text/html": [
       "<div>\n",
       "<style scoped>\n",
       "    .dataframe tbody tr th:only-of-type {\n",
       "        vertical-align: middle;\n",
       "    }\n",
       "\n",
       "    .dataframe tbody tr th {\n",
       "        vertical-align: top;\n",
       "    }\n",
       "\n",
       "    .dataframe thead th {\n",
       "        text-align: right;\n",
       "    }\n",
       "</style>\n",
       "<table border=\"1\" class=\"dataframe\">\n",
       "  <thead>\n",
       "    <tr style=\"text-align: right;\">\n",
       "      <th></th>\n",
       "      <th>Open</th>\n",
       "      <th>High</th>\n",
       "      <th>Low</th>\n",
       "      <th>Close</th>\n",
       "      <th>Adj Close</th>\n",
       "      <th>Volume</th>\n",
       "      <th>Increase_Decrease</th>\n",
       "      <th>Buy_Sell_on_Open</th>\n",
       "      <th>Buy_Sell</th>\n",
       "      <th>Return</th>\n",
       "    </tr>\n",
       "    <tr>\n",
       "      <th>Date</th>\n",
       "      <th></th>\n",
       "      <th></th>\n",
       "      <th></th>\n",
       "      <th></th>\n",
       "      <th></th>\n",
       "      <th></th>\n",
       "      <th></th>\n",
       "      <th></th>\n",
       "      <th></th>\n",
       "      <th></th>\n",
       "    </tr>\n",
       "  </thead>\n",
       "  <tbody>\n",
       "    <tr>\n",
       "      <th>2003-01-03</th>\n",
       "      <td>0.264286</td>\n",
       "      <td>0.266607</td>\n",
       "      <td>0.260536</td>\n",
       "      <td>0.266071</td>\n",
       "      <td>0.226458</td>\n",
       "      <td>147453600</td>\n",
       "      <td>1</td>\n",
       "      <td>1</td>\n",
       "      <td>-1</td>\n",
       "      <td>0.006754</td>\n",
       "    </tr>\n",
       "    <tr>\n",
       "      <th>2003-01-06</th>\n",
       "      <td>0.268393</td>\n",
       "      <td>0.274643</td>\n",
       "      <td>0.265714</td>\n",
       "      <td>0.266071</td>\n",
       "      <td>0.226458</td>\n",
       "      <td>390532800</td>\n",
       "      <td>0</td>\n",
       "      <td>-1</td>\n",
       "      <td>-1</td>\n",
       "      <td>0.000000</td>\n",
       "    </tr>\n",
       "    <tr>\n",
       "      <th>2003-01-07</th>\n",
       "      <td>0.264107</td>\n",
       "      <td>0.267857</td>\n",
       "      <td>0.258393</td>\n",
       "      <td>0.265179</td>\n",
       "      <td>0.225699</td>\n",
       "      <td>342344800</td>\n",
       "      <td>0</td>\n",
       "      <td>-1</td>\n",
       "      <td>-1</td>\n",
       "      <td>-0.003353</td>\n",
       "    </tr>\n",
       "    <tr>\n",
       "      <th>2003-01-08</th>\n",
       "      <td>0.260357</td>\n",
       "      <td>0.262679</td>\n",
       "      <td>0.257857</td>\n",
       "      <td>0.259821</td>\n",
       "      <td>0.221138</td>\n",
       "      <td>229644800</td>\n",
       "      <td>0</td>\n",
       "      <td>1</td>\n",
       "      <td>1</td>\n",
       "      <td>-0.020205</td>\n",
       "    </tr>\n",
       "    <tr>\n",
       "      <th>2003-01-09</th>\n",
       "      <td>0.261071</td>\n",
       "      <td>0.266429</td>\n",
       "      <td>0.258929</td>\n",
       "      <td>0.262143</td>\n",
       "      <td>0.223115</td>\n",
       "      <td>215252800</td>\n",
       "      <td>0</td>\n",
       "      <td>-1</td>\n",
       "      <td>1</td>\n",
       "      <td>0.008937</td>\n",
       "    </tr>\n",
       "  </tbody>\n",
       "</table>\n",
       "</div>"
      ],
      "text/plain": [
       "                Open      High       Low     Close  Adj Close     Volume  \\\n",
       "Date                                                                       \n",
       "2003-01-03  0.264286  0.266607  0.260536  0.266071   0.226458  147453600   \n",
       "2003-01-06  0.268393  0.274643  0.265714  0.266071   0.226458  390532800   \n",
       "2003-01-07  0.264107  0.267857  0.258393  0.265179   0.225699  342344800   \n",
       "2003-01-08  0.260357  0.262679  0.257857  0.259821   0.221138  229644800   \n",
       "2003-01-09  0.261071  0.266429  0.258929  0.262143   0.223115  215252800   \n",
       "\n",
       "            Increase_Decrease  Buy_Sell_on_Open  Buy_Sell    Return  \n",
       "Date                                                                 \n",
       "2003-01-03                  1                 1        -1  0.006754  \n",
       "2003-01-06                  0                -1        -1  0.000000  \n",
       "2003-01-07                  0                -1        -1 -0.003353  \n",
       "2003-01-08                  0                 1         1 -0.020205  \n",
       "2003-01-09                  0                -1         1  0.008937  "
      ]
     },
     "execution_count": 4,
     "metadata": {},
     "output_type": "execute_result"
    }
   ],
   "source": [
    "# Create more data\n",
    "dataset['Increase_Decrease'] = np.where(dataset['Volume'].shift(-1) > dataset['Volume'],1,0)\n",
    "dataset['Buy_Sell_on_Open'] = np.where(dataset['Open'].shift(-1) > dataset['Open'],1,-1)\n",
    "dataset['Buy_Sell'] = np.where(dataset['Adj Close'].shift(-1) > dataset['Adj Close'],1,-1)\n",
    "dataset['Return'] = dataset['Adj Close'].pct_change()\n",
    "dataset = dataset.dropna()\n",
    "dataset.head()"
   ]
  },
  {
   "cell_type": "markdown",
   "id": "5abd04a6",
   "metadata": {},
   "source": [
    "# View Dataset"
   ]
  },
  {
   "cell_type": "code",
   "execution_count": 5,
   "id": "86b2c06e",
   "metadata": {},
   "outputs": [
    {
     "data": {
      "text/html": [
       "<div>\n",
       "<style scoped>\n",
       "    .dataframe tbody tr th:only-of-type {\n",
       "        vertical-align: middle;\n",
       "    }\n",
       "\n",
       "    .dataframe tbody tr th {\n",
       "        vertical-align: top;\n",
       "    }\n",
       "\n",
       "    .dataframe thead th {\n",
       "        text-align: right;\n",
       "    }\n",
       "</style>\n",
       "<table border=\"1\" class=\"dataframe\">\n",
       "  <thead>\n",
       "    <tr style=\"text-align: right;\">\n",
       "      <th></th>\n",
       "      <th>Open</th>\n",
       "      <th>High</th>\n",
       "      <th>Low</th>\n",
       "      <th>Close</th>\n",
       "      <th>Adj Close</th>\n",
       "      <th>Volume</th>\n",
       "      <th>Increase_Decrease</th>\n",
       "      <th>Buy_Sell_on_Open</th>\n",
       "      <th>Buy_Sell</th>\n",
       "      <th>Return</th>\n",
       "    </tr>\n",
       "    <tr>\n",
       "      <th>Date</th>\n",
       "      <th></th>\n",
       "      <th></th>\n",
       "      <th></th>\n",
       "      <th></th>\n",
       "      <th></th>\n",
       "      <th></th>\n",
       "      <th></th>\n",
       "      <th></th>\n",
       "      <th></th>\n",
       "      <th></th>\n",
       "    </tr>\n",
       "  </thead>\n",
       "  <tbody>\n",
       "    <tr>\n",
       "      <th>2003-01-03</th>\n",
       "      <td>0.264286</td>\n",
       "      <td>0.266607</td>\n",
       "      <td>0.260536</td>\n",
       "      <td>0.266071</td>\n",
       "      <td>0.226458</td>\n",
       "      <td>147453600</td>\n",
       "      <td>1</td>\n",
       "      <td>1</td>\n",
       "      <td>-1</td>\n",
       "      <td>0.006754</td>\n",
       "    </tr>\n",
       "    <tr>\n",
       "      <th>2003-01-06</th>\n",
       "      <td>0.268393</td>\n",
       "      <td>0.274643</td>\n",
       "      <td>0.265714</td>\n",
       "      <td>0.266071</td>\n",
       "      <td>0.226458</td>\n",
       "      <td>390532800</td>\n",
       "      <td>0</td>\n",
       "      <td>-1</td>\n",
       "      <td>-1</td>\n",
       "      <td>0.000000</td>\n",
       "    </tr>\n",
       "    <tr>\n",
       "      <th>2003-01-07</th>\n",
       "      <td>0.264107</td>\n",
       "      <td>0.267857</td>\n",
       "      <td>0.258393</td>\n",
       "      <td>0.265179</td>\n",
       "      <td>0.225699</td>\n",
       "      <td>342344800</td>\n",
       "      <td>0</td>\n",
       "      <td>-1</td>\n",
       "      <td>-1</td>\n",
       "      <td>-0.003353</td>\n",
       "    </tr>\n",
       "    <tr>\n",
       "      <th>2003-01-08</th>\n",
       "      <td>0.260357</td>\n",
       "      <td>0.262679</td>\n",
       "      <td>0.257857</td>\n",
       "      <td>0.259821</td>\n",
       "      <td>0.221138</td>\n",
       "      <td>229644800</td>\n",
       "      <td>0</td>\n",
       "      <td>1</td>\n",
       "      <td>1</td>\n",
       "      <td>-0.020205</td>\n",
       "    </tr>\n",
       "    <tr>\n",
       "      <th>2003-01-09</th>\n",
       "      <td>0.261071</td>\n",
       "      <td>0.266429</td>\n",
       "      <td>0.258929</td>\n",
       "      <td>0.262143</td>\n",
       "      <td>0.223115</td>\n",
       "      <td>215252800</td>\n",
       "      <td>0</td>\n",
       "      <td>-1</td>\n",
       "      <td>1</td>\n",
       "      <td>0.008937</td>\n",
       "    </tr>\n",
       "    <tr>\n",
       "      <th>...</th>\n",
       "      <td>...</td>\n",
       "      <td>...</td>\n",
       "      <td>...</td>\n",
       "      <td>...</td>\n",
       "      <td>...</td>\n",
       "      <td>...</td>\n",
       "      <td>...</td>\n",
       "      <td>...</td>\n",
       "      <td>...</td>\n",
       "      <td>...</td>\n",
       "    </tr>\n",
       "    <tr>\n",
       "      <th>2022-12-23</th>\n",
       "      <td>130.919998</td>\n",
       "      <td>132.419998</td>\n",
       "      <td>129.639999</td>\n",
       "      <td>131.860001</td>\n",
       "      <td>131.658981</td>\n",
       "      <td>63814900</td>\n",
       "      <td>1</td>\n",
       "      <td>1</td>\n",
       "      <td>-1</td>\n",
       "      <td>-0.002798</td>\n",
       "    </tr>\n",
       "    <tr>\n",
       "      <th>2022-12-27</th>\n",
       "      <td>131.380005</td>\n",
       "      <td>131.410004</td>\n",
       "      <td>128.720001</td>\n",
       "      <td>130.029999</td>\n",
       "      <td>129.831772</td>\n",
       "      <td>69007800</td>\n",
       "      <td>1</td>\n",
       "      <td>-1</td>\n",
       "      <td>-1</td>\n",
       "      <td>-0.013878</td>\n",
       "    </tr>\n",
       "    <tr>\n",
       "      <th>2022-12-28</th>\n",
       "      <td>129.669998</td>\n",
       "      <td>131.029999</td>\n",
       "      <td>125.870003</td>\n",
       "      <td>126.040001</td>\n",
       "      <td>125.847855</td>\n",
       "      <td>85438400</td>\n",
       "      <td>0</td>\n",
       "      <td>-1</td>\n",
       "      <td>1</td>\n",
       "      <td>-0.030685</td>\n",
       "    </tr>\n",
       "    <tr>\n",
       "      <th>2022-12-29</th>\n",
       "      <td>127.989998</td>\n",
       "      <td>130.479996</td>\n",
       "      <td>127.730003</td>\n",
       "      <td>129.610001</td>\n",
       "      <td>129.412415</td>\n",
       "      <td>75703700</td>\n",
       "      <td>1</td>\n",
       "      <td>1</td>\n",
       "      <td>1</td>\n",
       "      <td>0.028324</td>\n",
       "    </tr>\n",
       "    <tr>\n",
       "      <th>2022-12-30</th>\n",
       "      <td>128.410004</td>\n",
       "      <td>129.949997</td>\n",
       "      <td>127.430000</td>\n",
       "      <td>129.929993</td>\n",
       "      <td>129.731918</td>\n",
       "      <td>77034200</td>\n",
       "      <td>0</td>\n",
       "      <td>-1</td>\n",
       "      <td>-1</td>\n",
       "      <td>0.002469</td>\n",
       "    </tr>\n",
       "  </tbody>\n",
       "</table>\n",
       "<p>5034 rows × 10 columns</p>\n",
       "</div>"
      ],
      "text/plain": [
       "                  Open        High         Low       Close   Adj Close  \\\n",
       "Date                                                                     \n",
       "2003-01-03    0.264286    0.266607    0.260536    0.266071    0.226458   \n",
       "2003-01-06    0.268393    0.274643    0.265714    0.266071    0.226458   \n",
       "2003-01-07    0.264107    0.267857    0.258393    0.265179    0.225699   \n",
       "2003-01-08    0.260357    0.262679    0.257857    0.259821    0.221138   \n",
       "2003-01-09    0.261071    0.266429    0.258929    0.262143    0.223115   \n",
       "...                ...         ...         ...         ...         ...   \n",
       "2022-12-23  130.919998  132.419998  129.639999  131.860001  131.658981   \n",
       "2022-12-27  131.380005  131.410004  128.720001  130.029999  129.831772   \n",
       "2022-12-28  129.669998  131.029999  125.870003  126.040001  125.847855   \n",
       "2022-12-29  127.989998  130.479996  127.730003  129.610001  129.412415   \n",
       "2022-12-30  128.410004  129.949997  127.430000  129.929993  129.731918   \n",
       "\n",
       "               Volume  Increase_Decrease  Buy_Sell_on_Open  Buy_Sell    Return  \n",
       "Date                                                                            \n",
       "2003-01-03  147453600                  1                 1        -1  0.006754  \n",
       "2003-01-06  390532800                  0                -1        -1  0.000000  \n",
       "2003-01-07  342344800                  0                -1        -1 -0.003353  \n",
       "2003-01-08  229644800                  0                 1         1 -0.020205  \n",
       "2003-01-09  215252800                  0                -1         1  0.008937  \n",
       "...               ...                ...               ...       ...       ...  \n",
       "2022-12-23   63814900                  1                 1        -1 -0.002798  \n",
       "2022-12-27   69007800                  1                -1        -1 -0.013878  \n",
       "2022-12-28   85438400                  0                -1         1 -0.030685  \n",
       "2022-12-29   75703700                  1                 1         1  0.028324  \n",
       "2022-12-30   77034200                  0                -1        -1  0.002469  \n",
       "\n",
       "[5034 rows x 10 columns]"
      ]
     },
     "execution_count": 5,
     "metadata": {},
     "output_type": "execute_result"
    }
   ],
   "source": [
    "#View Dataset\n",
    "dataset"
   ]
  },
  {
   "cell_type": "markdown",
   "id": "7f849c2b",
   "metadata": {},
   "source": [
    "# Null value testing and data clearance"
   ]
  },
  {
   "cell_type": "code",
   "execution_count": 6,
   "id": "16648548",
   "metadata": {},
   "outputs": [
    {
     "data": {
      "text/plain": [
       "Open                 0\n",
       "High                 0\n",
       "Low                  0\n",
       "Close                0\n",
       "Adj Close            0\n",
       "Volume               0\n",
       "Increase_Decrease    0\n",
       "Buy_Sell_on_Open     0\n",
       "Buy_Sell             0\n",
       "Return               0\n",
       "dtype: int64"
      ]
     },
     "execution_count": 6,
     "metadata": {},
     "output_type": "execute_result"
    }
   ],
   "source": [
    "# See how many null values in each column\n",
    "dataset.isnull().sum()"
   ]
  },
  {
   "cell_type": "code",
   "execution_count": 7,
   "id": "d1d21b75",
   "metadata": {},
   "outputs": [
    {
     "data": {
      "image/png": "[encoded data removed]",
      "text/plain": [
       "<Figure size 1200x400 with 1 Axes>"
      ]
     },
     "metadata": {},
     "output_type": "display_data"
    }
   ],
   "source": [
    "plt.figure(figsize=(12,4))\n",
    "sns.heatmap(dataset.isnull(), yticklabels=False,cbar=False,cmap='viridis')\n",
    "plt.savefig(\"Figure 1: Heatmap for Null Values\")"
   ]
  },
  {
   "cell_type": "markdown",
   "id": "1e6a7974",
   "metadata": {},
   "source": [
    "# Analyze the Data"
   ]
  },
  {
   "cell_type": "code",
   "execution_count": 8,
   "id": "52867747",
   "metadata": {},
   "outputs": [
    {
     "data": {
      "text/plain": [
       "(5034, 10)"
      ]
     },
     "execution_count": 8,
     "metadata": {},
     "output_type": "execute_result"
    }
   ],
   "source": [
    "# see number of rows, number of columns\n",
    "dataset.shape"
   ]
  },
  {
   "cell_type": "code",
   "execution_count": 9,
   "id": "aa6c7963",
   "metadata": {},
   "outputs": [
    {
     "name": "stdout",
     "output_type": "stream",
     "text": [
      "Total number of records =  50340\n"
     ]
    }
   ],
   "source": [
    "#TOTAL NUMBER OF RECORDS\n",
    "dataset.size\n",
    "print(\"Total number of records = \",dataset.size)"
   ]
  },
  {
   "cell_type": "code",
   "execution_count": 10,
   "id": "177fa8e9",
   "metadata": {},
   "outputs": [
    {
     "data": {
      "text/plain": [
       "Index(['Open', 'High', 'Low', 'Close', 'Adj Close', 'Volume',\n",
       "       'Increase_Decrease', 'Buy_Sell_on_Open', 'Buy_Sell', 'Return'],\n",
       "      dtype='object')"
      ]
     },
     "execution_count": 10,
     "metadata": {},
     "output_type": "execute_result"
    }
   ],
   "source": [
    "# view columns names\n",
    "dataset.columns"
   ]
  },
  {
   "cell_type": "code",
   "execution_count": 11,
   "id": "38bee341",
   "metadata": {},
   "outputs": [
    {
     "data": {
      "text/plain": [
       "Open                 float64\n",
       "High                 float64\n",
       "Low                  float64\n",
       "Close                float64\n",
       "Adj Close            float64\n",
       "Volume                 int64\n",
       "Increase_Decrease      int32\n",
       "Buy_Sell_on_Open       int32\n",
       "Buy_Sell               int32\n",
       "Return               float64\n",
       "dtype: object"
      ]
     },
     "execution_count": 11,
     "metadata": {},
     "output_type": "execute_result"
    }
   ],
   "source": [
    "# view data types of the Columns\n",
    "dataset.dtypes"
   ]
  },
  {
   "cell_type": "code",
   "execution_count": 12,
   "id": "baad163b",
   "metadata": {},
   "outputs": [
    {
     "data": {
      "text/plain": [
       "array([[<AxesSubplot:title={'center':'Open'}>,\n",
       "        <AxesSubplot:title={'center':'High'}>,\n",
       "        <AxesSubplot:title={'center':'Low'}>],\n",
       "       [<AxesSubplot:title={'center':'Close'}>,\n",
       "        <AxesSubplot:title={'center':'Adj Close'}>,\n",
       "        <AxesSubplot:title={'center':'Volume'}>],\n",
       "       [<AxesSubplot:title={'center':'Increase_Decrease'}>,\n",
       "        <AxesSubplot:title={'center':'Buy_Sell_on_Open'}>,\n",
       "        <AxesSubplot:title={'center':'Buy_Sell'}>],\n",
       "       [<AxesSubplot:title={'center':'Return'}>, <AxesSubplot:>,\n",
       "        <AxesSubplot:>]], dtype=object)"
      ]
     },
     "execution_count": 12,
     "metadata": {},
     "output_type": "execute_result"
    },
    {
     "data": {
      "image/png": "[encoded data removed]",
      "text/plain": [
       "<Figure size 1500x1500 with 12 Axes>"
      ]
     },
     "metadata": {},
     "output_type": "display_data"
    }
   ],
   "source": [
    "# Histogram per each numerical column\n",
    "dataset.hist(figsize=(15, 15))"
   ]
  },
  {
   "cell_type": "code",
   "execution_count": 13,
   "id": "0c4f5e64",
   "metadata": {},
   "outputs": [
    {
     "data": {
      "text/html": [
       "<div>\n",
       "<style scoped>\n",
       "    .dataframe tbody tr th:only-of-type {\n",
       "        vertical-align: middle;\n",
       "    }\n",
       "\n",
       "    .dataframe tbody tr th {\n",
       "        vertical-align: top;\n",
       "    }\n",
       "\n",
       "    .dataframe thead th {\n",
       "        text-align: right;\n",
       "    }\n",
       "</style>\n",
       "<table border=\"1\" class=\"dataframe\">\n",
       "  <thead>\n",
       "    <tr style=\"text-align: right;\">\n",
       "      <th></th>\n",
       "      <th>Open</th>\n",
       "      <th>High</th>\n",
       "      <th>Low</th>\n",
       "      <th>Close</th>\n",
       "      <th>Adj Close</th>\n",
       "      <th>Volume</th>\n",
       "      <th>Increase_Decrease</th>\n",
       "      <th>Buy_Sell_on_Open</th>\n",
       "      <th>Buy_Sell</th>\n",
       "      <th>Return</th>\n",
       "    </tr>\n",
       "  </thead>\n",
       "  <tbody>\n",
       "    <tr>\n",
       "      <th>count</th>\n",
       "      <td>5034.000000</td>\n",
       "      <td>5034.000000</td>\n",
       "      <td>5034.000000</td>\n",
       "      <td>5034.000000</td>\n",
       "      <td>5034.000000</td>\n",
       "      <td>5.034000e+03</td>\n",
       "      <td>5034.000000</td>\n",
       "      <td>5034.000000</td>\n",
       "      <td>5034.000000</td>\n",
       "      <td>5034.000000</td>\n",
       "    </tr>\n",
       "    <tr>\n",
       "      <th>mean</th>\n",
       "      <td>34.346669</td>\n",
       "      <td>34.733552</td>\n",
       "      <td>33.961841</td>\n",
       "      <td>34.361327</td>\n",
       "      <td>32.959478</td>\n",
       "      <td>4.182954e+08</td>\n",
       "      <td>0.473778</td>\n",
       "      <td>0.087406</td>\n",
       "      <td>0.057608</td>\n",
       "      <td>0.001489</td>\n",
       "    </tr>\n",
       "    <tr>\n",
       "      <th>std</th>\n",
       "      <td>44.621456</td>\n",
       "      <td>45.173300</td>\n",
       "      <td>44.082192</td>\n",
       "      <td>44.647301</td>\n",
       "      <td>44.550332</td>\n",
       "      <td>3.922911e+08</td>\n",
       "      <td>0.499362</td>\n",
       "      <td>0.996272</td>\n",
       "      <td>0.998438</td>\n",
       "      <td>0.021248</td>\n",
       "    </tr>\n",
       "    <tr>\n",
       "      <th>min</th>\n",
       "      <td>0.231964</td>\n",
       "      <td>0.235536</td>\n",
       "      <td>0.227143</td>\n",
       "      <td>0.234286</td>\n",
       "      <td>0.199405</td>\n",
       "      <td>3.519590e+07</td>\n",
       "      <td>0.000000</td>\n",
       "      <td>-1.000000</td>\n",
       "      <td>-1.000000</td>\n",
       "      <td>-0.179195</td>\n",
       "    </tr>\n",
       "    <tr>\n",
       "      <th>25%</th>\n",
       "      <td>4.307589</td>\n",
       "      <td>4.374821</td>\n",
       "      <td>4.244375</td>\n",
       "      <td>4.303571</td>\n",
       "      <td>3.662850</td>\n",
       "      <td>1.298692e+08</td>\n",
       "      <td>0.000000</td>\n",
       "      <td>-1.000000</td>\n",
       "      <td>-1.000000</td>\n",
       "      <td>-0.008825</td>\n",
       "    </tr>\n",
       "    <tr>\n",
       "      <th>50%</th>\n",
       "      <td>18.512678</td>\n",
       "      <td>18.650179</td>\n",
       "      <td>18.326072</td>\n",
       "      <td>18.536786</td>\n",
       "      <td>16.110529</td>\n",
       "      <td>2.885910e+08</td>\n",
       "      <td>0.000000</td>\n",
       "      <td>1.000000</td>\n",
       "      <td>1.000000</td>\n",
       "      <td>0.001109</td>\n",
       "    </tr>\n",
       "    <tr>\n",
       "      <th>75%</th>\n",
       "      <td>41.358125</td>\n",
       "      <td>41.877500</td>\n",
       "      <td>40.898126</td>\n",
       "      <td>41.314374</td>\n",
       "      <td>39.461482</td>\n",
       "      <td>5.838686e+08</td>\n",
       "      <td>1.000000</td>\n",
       "      <td>1.000000</td>\n",
       "      <td>1.000000</td>\n",
       "      <td>0.012228</td>\n",
       "    </tr>\n",
       "    <tr>\n",
       "      <th>max</th>\n",
       "      <td>182.630005</td>\n",
       "      <td>182.940002</td>\n",
       "      <td>179.119995</td>\n",
       "      <td>182.009995</td>\n",
       "      <td>180.683884</td>\n",
       "      <td>3.372970e+09</td>\n",
       "      <td>1.000000</td>\n",
       "      <td>1.000000</td>\n",
       "      <td>1.000000</td>\n",
       "      <td>0.139050</td>\n",
       "    </tr>\n",
       "  </tbody>\n",
       "</table>\n",
       "</div>"
      ],
      "text/plain": [
       "              Open         High          Low        Close    Adj Close  \\\n",
       "count  5034.000000  5034.000000  5034.000000  5034.000000  5034.000000   \n",
       "mean     34.346669    34.733552    33.961841    34.361327    32.959478   \n",
       "std      44.621456    45.173300    44.082192    44.647301    44.550332   \n",
       "min       0.231964     0.235536     0.227143     0.234286     0.199405   \n",
       "25%       4.307589     4.374821     4.244375     4.303571     3.662850   \n",
       "50%      18.512678    18.650179    18.326072    18.536786    16.110529   \n",
       "75%      41.358125    41.877500    40.898126    41.314374    39.461482   \n",
       "max     182.630005   182.940002   179.119995   182.009995   180.683884   \n",
       "\n",
       "             Volume  Increase_Decrease  Buy_Sell_on_Open     Buy_Sell  \\\n",
       "count  5.034000e+03        5034.000000       5034.000000  5034.000000   \n",
       "mean   4.182954e+08           0.473778          0.087406     0.057608   \n",
       "std    3.922911e+08           0.499362          0.996272     0.998438   \n",
       "min    3.519590e+07           0.000000         -1.000000    -1.000000   \n",
       "25%    1.298692e+08           0.000000         -1.000000    -1.000000   \n",
       "50%    2.885910e+08           0.000000          1.000000     1.000000   \n",
       "75%    5.838686e+08           1.000000          1.000000     1.000000   \n",
       "max    3.372970e+09           1.000000          1.000000     1.000000   \n",
       "\n",
       "            Return  \n",
       "count  5034.000000  \n",
       "mean      0.001489  \n",
       "std       0.021248  \n",
       "min      -0.179195  \n",
       "25%      -0.008825  \n",
       "50%       0.001109  \n",
       "75%       0.012228  \n",
       "max       0.139050  "
      ]
     },
     "execution_count": 13,
     "metadata": {},
     "output_type": "execute_result"
    }
   ],
   "source": [
    "# The statistics per each column\n",
    "dataset.describe()"
   ]
  },
  {
   "cell_type": "markdown",
   "id": "8c2abb2e",
   "metadata": {},
   "source": [
    "# Define X and Y"
   ]
  },
  {
   "cell_type": "code",
   "execution_count": 14,
   "id": "5fa4a9dc",
   "metadata": {},
   "outputs": [],
   "source": [
    "X = dataset.drop(['Adj Close', 'Close'], axis=1)  \n",
    "y = dataset['Adj Close'] "
   ]
  },
  {
   "cell_type": "markdown",
   "id": "d3fb0db8",
   "metadata": {},
   "source": [
    "# Split Train data and Test data"
   ]
  },
  {
   "cell_type": "code",
   "execution_count": 15,
   "id": "ea55ec97",
   "metadata": {},
   "outputs": [],
   "source": [
    "from sklearn.model_selection import train_test_split  \n",
    "X_train, X_test, y_train, y_test = train_test_split(X, y, test_size=0.2, random_state=0)"
   ]
  },
  {
   "cell_type": "markdown",
   "id": "f08a8713",
   "metadata": {},
   "source": [
    "# Dataset Traning and Model Traning"
   ]
  },
  {
   "cell_type": "code",
   "execution_count": 16,
   "id": "e2e9b898",
   "metadata": {},
   "outputs": [
    {
     "data": {
      "text/plain": [
       "DecisionTreeRegressor()"
      ]
     },
     "execution_count": 16,
     "metadata": {},
     "output_type": "execute_result"
    }
   ],
   "source": [
    "from sklearn.tree import DecisionTreeRegressor  \n",
    "regressor = DecisionTreeRegressor()  \n",
    "regressor.fit(X_train, y_train)"
   ]
  },
  {
   "cell_type": "markdown",
   "id": "e281b96d",
   "metadata": {},
   "source": [
    "# Comparison of Actual Values and Predictions Values"
   ]
  },
  {
   "cell_type": "code",
   "execution_count": 17,
   "id": "37d45c1e",
   "metadata": {},
   "outputs": [],
   "source": [
    "y_pred = regressor.predict(X_test)"
   ]
  },
  {
   "cell_type": "code",
   "execution_count": 18,
   "id": "54984fae",
   "metadata": {},
   "outputs": [
    {
     "name": "stdout",
     "output_type": "stream",
     "text": [
      "                Actual   Predicted\n",
      "Date                              \n",
      "2018-12-03   44.527958   44.337353\n",
      "2021-05-06  128.196869  126.979500\n",
      "2004-07-12    0.442885    0.452613\n",
      "2004-03-17    0.398050    0.396226\n",
      "2019-09-18   54.314449   53.345230\n",
      "               Actual  Predicted\n",
      "Date                            \n",
      "2014-05-13  18.882904  18.886398\n",
      "2003-08-25   0.317042   0.321449\n",
      "2014-10-03  22.287285  23.083677\n",
      "2007-04-27   3.037276   3.041532\n",
      "2005-03-04   1.301300   1.284277\n"
     ]
    }
   ],
   "source": [
    "df = pd.DataFrame({'Actual':y_test, 'Predicted':y_pred})  \n",
    "print(df.head())\n",
    "print(df.tail())"
   ]
  },
  {
   "cell_type": "code",
   "execution_count": 19,
   "id": "27914a11",
   "metadata": {},
   "outputs": [
    {
     "name": "stdout",
     "output_type": "stream",
     "text": [
      "(1007,)\n",
      "(1007,)\n"
     ]
    }
   ],
   "source": [
    "print(y_test.shape)\n",
    "print(y_pred.shape)"
   ]
  },
  {
   "cell_type": "markdown",
   "id": "2f33e442",
   "metadata": {},
   "source": [
    "# Accuracy and Loss Function Values of the Model"
   ]
  },
  {
   "cell_type": "code",
   "execution_count": 20,
   "id": "07ba613a",
   "metadata": {},
   "outputs": [
    {
     "name": "stdout",
     "output_type": "stream",
     "text": [
      "Mean_Absolute_Error(MAE): 0.3362094882021121\n",
      "Mean_Squared_Error(MSE): 0.4936029125826738\n",
      "Root_Mean_Squared_Error(RMSE): 0.7025687956226592\n"
     ]
    }
   ],
   "source": [
    "from sklearn import metrics  \n",
    "print('Mean_Absolute_Error(MAE):', metrics.mean_absolute_error(y_test, y_pred))  \n",
    "print('Mean_Squared_Error(MSE):', metrics.mean_squared_error(y_test, y_pred))  \n",
    "print('Root_Mean_Squared_Error(RMSE):', np.sqrt(metrics.mean_squared_error(y_test, y_pred)))"
   ]
  },
  {
   "cell_type": "code",
   "execution_count": 21,
   "id": "ac268869",
   "metadata": {},
   "outputs": [],
   "source": [
    "from sklearn.model_selection import cross_val_score\n",
    "\n",
    "dt_fit = regressor.fit(X_train, y_train)\n",
    "dt_scores = cross_val_score(dt_fit, X_train, y_train, cv = 5)"
   ]
  },
  {
   "cell_type": "code",
   "execution_count": 22,
   "id": "465ef81f",
   "metadata": {},
   "outputs": [
    {
     "name": "stdout",
     "output_type": "stream",
     "text": [
      "Accuracy score: 0.9997595\n"
     ]
    }
   ],
   "source": [
    "print(\"Accuracy score: {:.7f}\".format(regressor.score(X_test, y_test)))"
   ]
  }
 ],
 "metadata": {
  "kernelspec": {
   "display_name": "Python 3 (ipykernel)",
   "language": "python",
   "name": "python3"
  },
  "language_info": {
   "codemirror_mode": {
    "name": "ipython",
    "version": 3
   },
   "file_extension": ".py",
   "mimetype": "text/x-python",
   "name": "python",
   "nbconvert_exporter": "python",
   "pygments_lexer": "ipython3",
   "version": "3.9.13"
  }
 },
 "nbformat": 4,
 "nbformat_minor": 5
}
