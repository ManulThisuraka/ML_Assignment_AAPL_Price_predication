{
 "cells": [
  {
   "cell_type": "markdown",
   "id": "a17e83c9",
   "metadata": {},
   "source": [
    "# APPL Stock Price Prediction Using Different Machine Learning Models and Compare the Performance of the Models"
   ]
  },
  {
   "cell_type": "markdown",
   "id": "e11738d1",
   "metadata": {},
   "source": [
    "## Logistic Regression"
   ]
  },
  {
   "cell_type": "markdown",
   "id": "74fb71b7",
   "metadata": {},
   "source": [
    "### Import Libraries"
   ]
  },
  {
   "cell_type": "code",
   "execution_count": 1,
   "id": "6c3ded36",
   "metadata": {},
   "outputs": [
    {
     "name": "stdout",
     "output_type": "stream",
     "text": [
      "Requirement already satisfied: yfinance in c:\\users\\manulthisuraka\\anaconda3\\lib\\site-packages (0.2.17)\n",
      "Requirement already satisfied: lxml>=4.9.1 in c:\\users\\manulthisuraka\\anaconda3\\lib\\site-packages (from yfinance) (4.9.1)\n",
      "Requirement already satisfied: appdirs>=1.4.4 in c:\\users\\manulthisuraka\\anaconda3\\lib\\site-packages (from yfinance) (1.4.4)\n",
      "Requirement already satisfied: html5lib>=1.1 in c:\\users\\manulthisuraka\\anaconda3\\lib\\site-packages (from yfinance) (1.1)\n",
      "Requirement already satisfied: pandas>=1.3.0 in c:\\users\\manulthisuraka\\anaconda3\\lib\\site-packages (from yfinance) (1.4.4)\n",
      "Requirement already satisfied: beautifulsoup4>=4.11.1 in c:\\users\\manulthisuraka\\anaconda3\\lib\\site-packages (from yfinance) (4.11.1)\n",
      "Requirement already satisfied: requests>=2.26 in c:\\users\\manulthisuraka\\anaconda3\\lib\\site-packages (from yfinance) (2.28.1)\n",
      "Requirement already satisfied: cryptography>=3.3.2 in c:\\users\\manulthisuraka\\anaconda3\\lib\\site-packages (from yfinance) (37.0.1)\n",
      "Requirement already satisfied: numpy>=1.16.5 in c:\\users\\manulthisuraka\\anaconda3\\lib\\site-packages (from yfinance) (1.21.5)\n",
      "Requirement already satisfied: multitasking>=0.0.7 in c:\\users\\manulthisuraka\\anaconda3\\lib\\site-packages (from yfinance) (0.0.11)\n",
      "Requirement already satisfied: frozendict>=2.3.4 in c:\\users\\manulthisuraka\\anaconda3\\lib\\site-packages (from yfinance) (2.3.7)\n",
      "Requirement already satisfied: pytz>=2022.5 in c:\\users\\manulthisuraka\\anaconda3\\lib\\site-packages (from yfinance) (2023.3)\n",
      "Requirement already satisfied: soupsieve>1.2 in c:\\users\\manulthisuraka\\anaconda3\\lib\\site-packages (from beautifulsoup4>=4.11.1->yfinance) (2.3.1)\n",
      "Requirement already satisfied: cffi>=1.12 in c:\\users\\manulthisuraka\\anaconda3\\lib\\site-packages (from cryptography>=3.3.2->yfinance) (1.15.1)\n",
      "Requirement already satisfied: six>=1.9 in c:\\users\\manulthisuraka\\anaconda3\\lib\\site-packages (from html5lib>=1.1->yfinance) (1.16.0)\n",
      "Requirement already satisfied: webencodings in c:\\users\\manulthisuraka\\anaconda3\\lib\\site-packages (from html5lib>=1.1->yfinance) (0.5.1)\n",
      "Requirement already satisfied: python-dateutil>=2.8.1 in c:\\users\\manulthisuraka\\anaconda3\\lib\\site-packages (from pandas>=1.3.0->yfinance) (2.8.2)\n",
      "Requirement already satisfied: certifi>=2017.4.17 in c:\\users\\manulthisuraka\\anaconda3\\lib\\site-packages (from requests>=2.26->yfinance) (2022.9.14)\n",
      "Requirement already satisfied: idna<4,>=2.5 in c:\\users\\manulthisuraka\\anaconda3\\lib\\site-packages (from requests>=2.26->yfinance) (3.3)\n",
      "Requirement already satisfied: urllib3<1.27,>=1.21.1 in c:\\users\\manulthisuraka\\anaconda3\\lib\\site-packages (from requests>=2.26->yfinance) (1.26.11)\n",
      "Requirement already satisfied: charset-normalizer<3,>=2 in c:\\users\\manulthisuraka\\anaconda3\\lib\\site-packages (from requests>=2.26->yfinance) (2.0.4)\n",
      "Requirement already satisfied: pycparser in c:\\users\\manulthisuraka\\anaconda3\\lib\\site-packages (from cffi>=1.12->cryptography>=3.3.2->yfinance) (2.21)\n"
     ]
    }
   ],
   "source": [
    "# yahoo_finance is used to fetch data\n",
    "!pip install yfinance"
   ]
  },
  {
   "cell_type": "code",
   "execution_count": 2,
   "id": "54525add",
   "metadata": {
    "scrolled": true
   },
   "outputs": [
    {
     "name": "stdout",
     "output_type": "stream",
     "text": [
      "Requirement already satisfied: yfinance in c:\\users\\manulthisuraka\\anaconda3\\lib\\site-packages (0.2.17)\n",
      "Requirement already satisfied: multitasking>=0.0.7 in c:\\users\\manulthisuraka\\anaconda3\\lib\\site-packages (from yfinance) (0.0.11)\n",
      "Requirement already satisfied: appdirs>=1.4.4 in c:\\users\\manulthisuraka\\anaconda3\\lib\\site-packages (from yfinance) (1.4.4)\n",
      "Requirement already satisfied: cryptography>=3.3.2 in c:\\users\\manulthisuraka\\anaconda3\\lib\\site-packages (from yfinance) (37.0.1)\n",
      "Requirement already satisfied: pandas>=1.3.0 in c:\\users\\manulthisuraka\\anaconda3\\lib\\site-packages (from yfinance) (1.4.4)\n",
      "Requirement already satisfied: lxml>=4.9.1 in c:\\users\\manulthisuraka\\anaconda3\\lib\\site-packages (from yfinance) (4.9.1)\n",
      "Requirement already satisfied: html5lib>=1.1 in c:\\users\\manulthisuraka\\anaconda3\\lib\\site-packages (from yfinance) (1.1)\n",
      "Requirement already satisfied: beautifulsoup4>=4.11.1 in c:\\users\\manulthisuraka\\anaconda3\\lib\\site-packages (from yfinance) (4.11.1)\n",
      "Requirement already satisfied: pytz>=2022.5 in c:\\users\\manulthisuraka\\anaconda3\\lib\\site-packages (from yfinance) (2023.3)\n",
      "Requirement already satisfied: numpy>=1.16.5 in c:\\users\\manulthisuraka\\anaconda3\\lib\\site-packages (from yfinance) (1.21.5)\n",
      "Requirement already satisfied: requests>=2.26 in c:\\users\\manulthisuraka\\anaconda3\\lib\\site-packages (from yfinance) (2.28.1)\n",
      "Requirement already satisfied: frozendict>=2.3.4 in c:\\users\\manulthisuraka\\anaconda3\\lib\\site-packages (from yfinance) (2.3.7)\n",
      "Requirement already satisfied: soupsieve>1.2 in c:\\users\\manulthisuraka\\anaconda3\\lib\\site-packages (from beautifulsoup4>=4.11.1->yfinance) (2.3.1)\n",
      "Requirement already satisfied: cffi>=1.12 in c:\\users\\manulthisuraka\\anaconda3\\lib\\site-packages (from cryptography>=3.3.2->yfinance) (1.15.1)\n",
      "Requirement already satisfied: six>=1.9 in c:\\users\\manulthisuraka\\anaconda3\\lib\\site-packages (from html5lib>=1.1->yfinance) (1.16.0)\n",
      "Requirement already satisfied: webencodings in c:\\users\\manulthisuraka\\anaconda3\\lib\\site-packages (from html5lib>=1.1->yfinance) (0.5.1)\n",
      "Requirement already satisfied: python-dateutil>=2.8.1 in c:\\users\\manulthisuraka\\anaconda3\\lib\\site-packages (from pandas>=1.3.0->yfinance) (2.8.2)\n",
      "Requirement already satisfied: certifi>=2017.4.17 in c:\\users\\manulthisuraka\\anaconda3\\lib\\site-packages (from requests>=2.26->yfinance) (2022.9.14)\n",
      "Requirement already satisfied: charset-normalizer<3,>=2 in c:\\users\\manulthisuraka\\anaconda3\\lib\\site-packages (from requests>=2.26->yfinance) (2.0.4)\n",
      "Requirement already satisfied: idna<4,>=2.5 in c:\\users\\manulthisuraka\\anaconda3\\lib\\site-packages (from requests>=2.26->yfinance) (3.3)\n",
      "Requirement already satisfied: urllib3<1.27,>=1.21.1 in c:\\users\\manulthisuraka\\anaconda3\\lib\\site-packages (from requests>=2.26->yfinance) (1.26.11)\n",
      "Requirement already satisfied: pycparser in c:\\users\\manulthisuraka\\anaconda3\\lib\\site-packages (from cffi>=1.12->cryptography>=3.3.2->yfinance) (2.21)\n"
     ]
    }
   ],
   "source": [
    "# Import Libraries\n",
    "import numpy as np\n",
    "import matplotlib.pyplot as plt\n",
    "import pandas as pd\n",
    "\n",
    "import warnings\n",
    "warnings.filterwarnings(\"ignore\")\n",
    "\n",
    "!pip install yfinance\n",
    "import yfinance as yf\n",
    "yf.pdr_override()\n",
    "\n",
    "# MATPLOTLIB & SEABORN FOR GRAPH-PLOTTING\n",
    "import matplotlib.pyplot as plt\n",
    "import seaborn as sns\n",
    "%matplotlib inline"
   ]
  },
  {
   "cell_type": "markdown",
   "id": "52483cfe",
   "metadata": {},
   "source": [
    "### Load data into a Data Frame"
   ]
  },
  {
   "cell_type": "code",
   "execution_count": 3,
   "id": "0c9311b4",
   "metadata": {},
   "outputs": [
    {
     "name": "stdout",
     "output_type": "stream",
     "text": [
      "[*********************100%***********************]  1 of 1 completed\n"
     ]
    }
   ],
   "source": [
    "# input\n",
    "symbol = 'AAPL'\n",
    "start = '2018-12-12'\n",
    "end = '2022-12-12'\n",
    "\n",
    "# Read data\n",
    "dataset = yf.download(symbol,start,end)\n",
    "# dataset = pd.read_csv(\"./dataset/AAPL.csv\")"
   ]
  },
  {
   "cell_type": "code",
   "execution_count": 4,
   "id": "5d592052",
   "metadata": {},
   "outputs": [
    {
     "data": {
      "text/plain": "                 Open       High        Low      Close  Adj Close     Volume\nDate                                                                        \n2018-12-12  42.599998  42.980000  42.255001  42.275002  40.740604  142510800\n2018-12-13  42.622501  43.142502  42.387501  42.737499  41.186317  127594400\n2018-12-14  42.250000  42.270000  41.320000  41.369999  39.868450  162814800\n2018-12-17  41.362499  42.087502  40.682499  40.985001  39.497421  177151600\n2018-12-18  41.345001  41.882500  41.097500  41.517502  40.010597  135366000",
      "text/html": "<div>\n<style scoped>\n    .dataframe tbody tr th:only-of-type {\n        vertical-align: middle;\n    }\n\n    .dataframe tbody tr th {\n        vertical-align: top;\n    }\n\n    .dataframe thead th {\n        text-align: right;\n    }\n</style>\n<table border=\"1\" class=\"dataframe\">\n  <thead>\n    <tr style=\"text-align: right;\">\n      <th></th>\n      <th>Open</th>\n      <th>High</th>\n      <th>Low</th>\n      <th>Close</th>\n      <th>Adj Close</th>\n      <th>Volume</th>\n    </tr>\n    <tr>\n      <th>Date</th>\n      <th></th>\n      <th></th>\n      <th></th>\n      <th></th>\n      <th></th>\n      <th></th>\n    </tr>\n  </thead>\n  <tbody>\n    <tr>\n      <th>2018-12-12</th>\n      <td>42.599998</td>\n      <td>42.980000</td>\n      <td>42.255001</td>\n      <td>42.275002</td>\n      <td>40.740604</td>\n      <td>142510800</td>\n    </tr>\n    <tr>\n      <th>2018-12-13</th>\n      <td>42.622501</td>\n      <td>43.142502</td>\n      <td>42.387501</td>\n      <td>42.737499</td>\n      <td>41.186317</td>\n      <td>127594400</td>\n    </tr>\n    <tr>\n      <th>2018-12-14</th>\n      <td>42.250000</td>\n      <td>42.270000</td>\n      <td>41.320000</td>\n      <td>41.369999</td>\n      <td>39.868450</td>\n      <td>162814800</td>\n    </tr>\n    <tr>\n      <th>2018-12-17</th>\n      <td>41.362499</td>\n      <td>42.087502</td>\n      <td>40.682499</td>\n      <td>40.985001</td>\n      <td>39.497421</td>\n      <td>177151600</td>\n    </tr>\n    <tr>\n      <th>2018-12-18</th>\n      <td>41.345001</td>\n      <td>41.882500</td>\n      <td>41.097500</td>\n      <td>41.517502</td>\n      <td>40.010597</td>\n      <td>135366000</td>\n    </tr>\n  </tbody>\n</table>\n</div>"
     },
     "execution_count": 4,
     "metadata": {},
     "output_type": "execute_result"
    }
   ],
   "source": [
    "# View Columns\n",
    "dataset.head()"
   ]
  },
  {
   "cell_type": "markdown",
   "id": "1cd2424a",
   "metadata": {},
   "source": [
    "### Data Preprocessing"
   ]
  },
  {
   "cell_type": "code",
   "execution_count": 5,
   "id": "99766074",
   "metadata": {},
   "outputs": [],
   "source": [
    "dataset['Buy_Sell'] = np.where(dataset['Adj Close'].shift(-1) > dataset['Adj Close'],1,-1)"
   ]
  },
  {
   "cell_type": "code",
   "execution_count": 6,
   "id": "92900316",
   "metadata": {},
   "outputs": [
    {
     "data": {
      "text/plain": "                 Open       High        Low      Close  Adj Close     Volume  \\\nDate                                                                           \n2018-12-12  42.599998  42.980000  42.255001  42.275002  40.740604  142510800   \n2018-12-13  42.622501  43.142502  42.387501  42.737499  41.186317  127594400   \n2018-12-14  42.250000  42.270000  41.320000  41.369999  39.868450  162814800   \n2018-12-17  41.362499  42.087502  40.682499  40.985001  39.497421  177151600   \n2018-12-18  41.345001  41.882500  41.097500  41.517502  40.010597  135366000   \n\n            Buy_Sell  \nDate                  \n2018-12-12         1  \n2018-12-13        -1  \n2018-12-14        -1  \n2018-12-17         1  \n2018-12-18        -1  ",
      "text/html": "<div>\n<style scoped>\n    .dataframe tbody tr th:only-of-type {\n        vertical-align: middle;\n    }\n\n    .dataframe tbody tr th {\n        vertical-align: top;\n    }\n\n    .dataframe thead th {\n        text-align: right;\n    }\n</style>\n<table border=\"1\" class=\"dataframe\">\n  <thead>\n    <tr style=\"text-align: right;\">\n      <th></th>\n      <th>Open</th>\n      <th>High</th>\n      <th>Low</th>\n      <th>Close</th>\n      <th>Adj Close</th>\n      <th>Volume</th>\n      <th>Buy_Sell</th>\n    </tr>\n    <tr>\n      <th>Date</th>\n      <th></th>\n      <th></th>\n      <th></th>\n      <th></th>\n      <th></th>\n      <th></th>\n      <th></th>\n    </tr>\n  </thead>\n  <tbody>\n    <tr>\n      <th>2018-12-12</th>\n      <td>42.599998</td>\n      <td>42.980000</td>\n      <td>42.255001</td>\n      <td>42.275002</td>\n      <td>40.740604</td>\n      <td>142510800</td>\n      <td>1</td>\n    </tr>\n    <tr>\n      <th>2018-12-13</th>\n      <td>42.622501</td>\n      <td>43.142502</td>\n      <td>42.387501</td>\n      <td>42.737499</td>\n      <td>41.186317</td>\n      <td>127594400</td>\n      <td>-1</td>\n    </tr>\n    <tr>\n      <th>2018-12-14</th>\n      <td>42.250000</td>\n      <td>42.270000</td>\n      <td>41.320000</td>\n      <td>41.369999</td>\n      <td>39.868450</td>\n      <td>162814800</td>\n      <td>-1</td>\n    </tr>\n    <tr>\n      <th>2018-12-17</th>\n      <td>41.362499</td>\n      <td>42.087502</td>\n      <td>40.682499</td>\n      <td>40.985001</td>\n      <td>39.497421</td>\n      <td>177151600</td>\n      <td>1</td>\n    </tr>\n    <tr>\n      <th>2018-12-18</th>\n      <td>41.345001</td>\n      <td>41.882500</td>\n      <td>41.097500</td>\n      <td>41.517502</td>\n      <td>40.010597</td>\n      <td>135366000</td>\n      <td>-1</td>\n    </tr>\n  </tbody>\n</table>\n</div>"
     },
     "execution_count": 6,
     "metadata": {},
     "output_type": "execute_result"
    }
   ],
   "source": [
    "dataset.head()"
   ]
  },
  {
   "cell_type": "code",
   "execution_count": 7,
   "id": "4be8713c",
   "metadata": {},
   "outputs": [
    {
     "data": {
      "text/plain": "                  Open        High         Low       Close   Adj Close  \\\nDate                                                                     \n2018-12-12   42.599998   42.980000   42.255001   42.275002   40.740604   \n2018-12-13   42.622501   43.142502   42.387501   42.737499   41.186317   \n2018-12-14   42.250000   42.270000   41.320000   41.369999   39.868450   \n2018-12-17   41.362499   42.087502   40.682499   40.985001   39.497421   \n2018-12-18   41.345001   41.882500   41.097500   41.517502   40.010597   \n...                ...         ...         ...         ...         ...   \n2022-12-05  147.770004  150.919998  145.770004  146.630005  146.406464   \n2022-12-06  147.070007  147.300003  141.919998  142.910004  142.692139   \n2022-12-07  142.190002  143.369995  140.000000  140.940002  140.725143   \n2022-12-08  142.360001  143.520004  141.100006  142.649994  142.432526   \n2022-12-09  142.339996  145.570007  140.899994  142.160004  141.943283   \n\n               Volume  Buy_Sell  \nDate                             \n2018-12-12  142510800         1  \n2018-12-13  127594400        -1  \n2018-12-14  162814800        -1  \n2018-12-17  177151600         1  \n2018-12-18  135366000        -1  \n...               ...       ...  \n2022-12-05   68826400        -1  \n2022-12-06   64727200        -1  \n2022-12-07   69721100         1  \n2022-12-08   62128300        -1  \n2022-12-09   76097000        -1  \n\n[1007 rows x 7 columns]",
      "text/html": "<div>\n<style scoped>\n    .dataframe tbody tr th:only-of-type {\n        vertical-align: middle;\n    }\n\n    .dataframe tbody tr th {\n        vertical-align: top;\n    }\n\n    .dataframe thead th {\n        text-align: right;\n    }\n</style>\n<table border=\"1\" class=\"dataframe\">\n  <thead>\n    <tr style=\"text-align: right;\">\n      <th></th>\n      <th>Open</th>\n      <th>High</th>\n      <th>Low</th>\n      <th>Close</th>\n      <th>Adj Close</th>\n      <th>Volume</th>\n      <th>Buy_Sell</th>\n    </tr>\n    <tr>\n      <th>Date</th>\n      <th></th>\n      <th></th>\n      <th></th>\n      <th></th>\n      <th></th>\n      <th></th>\n      <th></th>\n    </tr>\n  </thead>\n  <tbody>\n    <tr>\n      <th>2018-12-12</th>\n      <td>42.599998</td>\n      <td>42.980000</td>\n      <td>42.255001</td>\n      <td>42.275002</td>\n      <td>40.740604</td>\n      <td>142510800</td>\n      <td>1</td>\n    </tr>\n    <tr>\n      <th>2018-12-13</th>\n      <td>42.622501</td>\n      <td>43.142502</td>\n      <td>42.387501</td>\n      <td>42.737499</td>\n      <td>41.186317</td>\n      <td>127594400</td>\n      <td>-1</td>\n    </tr>\n    <tr>\n      <th>2018-12-14</th>\n      <td>42.250000</td>\n      <td>42.270000</td>\n      <td>41.320000</td>\n      <td>41.369999</td>\n      <td>39.868450</td>\n      <td>162814800</td>\n      <td>-1</td>\n    </tr>\n    <tr>\n      <th>2018-12-17</th>\n      <td>41.362499</td>\n      <td>42.087502</td>\n      <td>40.682499</td>\n      <td>40.985001</td>\n      <td>39.497421</td>\n      <td>177151600</td>\n      <td>1</td>\n    </tr>\n    <tr>\n      <th>2018-12-18</th>\n      <td>41.345001</td>\n      <td>41.882500</td>\n      <td>41.097500</td>\n      <td>41.517502</td>\n      <td>40.010597</td>\n      <td>135366000</td>\n      <td>-1</td>\n    </tr>\n    <tr>\n      <th>...</th>\n      <td>...</td>\n      <td>...</td>\n      <td>...</td>\n      <td>...</td>\n      <td>...</td>\n      <td>...</td>\n      <td>...</td>\n    </tr>\n    <tr>\n      <th>2022-12-05</th>\n      <td>147.770004</td>\n      <td>150.919998</td>\n      <td>145.770004</td>\n      <td>146.630005</td>\n      <td>146.406464</td>\n      <td>68826400</td>\n      <td>-1</td>\n    </tr>\n    <tr>\n      <th>2022-12-06</th>\n      <td>147.070007</td>\n      <td>147.300003</td>\n      <td>141.919998</td>\n      <td>142.910004</td>\n      <td>142.692139</td>\n      <td>64727200</td>\n      <td>-1</td>\n    </tr>\n    <tr>\n      <th>2022-12-07</th>\n      <td>142.190002</td>\n      <td>143.369995</td>\n      <td>140.000000</td>\n      <td>140.940002</td>\n      <td>140.725143</td>\n      <td>69721100</td>\n      <td>1</td>\n    </tr>\n    <tr>\n      <th>2022-12-08</th>\n      <td>142.360001</td>\n      <td>143.520004</td>\n      <td>141.100006</td>\n      <td>142.649994</td>\n      <td>142.432526</td>\n      <td>62128300</td>\n      <td>-1</td>\n    </tr>\n    <tr>\n      <th>2022-12-09</th>\n      <td>142.339996</td>\n      <td>145.570007</td>\n      <td>140.899994</td>\n      <td>142.160004</td>\n      <td>141.943283</td>\n      <td>76097000</td>\n      <td>-1</td>\n    </tr>\n  </tbody>\n</table>\n<p>1007 rows × 7 columns</p>\n</div>"
     },
     "execution_count": 7,
     "metadata": {},
     "output_type": "execute_result"
    }
   ],
   "source": [
    "# view dataset\n",
    "dataset"
   ]
  },
  {
   "cell_type": "markdown",
   "id": "211656b8",
   "metadata": {},
   "source": [
    "### Null value testing and data clearance"
   ]
  },
  {
   "cell_type": "code",
   "execution_count": 8,
   "id": "8d76538a",
   "metadata": {},
   "outputs": [
    {
     "data": {
      "text/plain": "Open         0\nHigh         0\nLow          0\nClose        0\nAdj Close    0\nVolume       0\nBuy_Sell     0\ndtype: int64"
     },
     "execution_count": 8,
     "metadata": {},
     "output_type": "execute_result"
    }
   ],
   "source": [
    "# See how many null values in each column\n",
    "\n",
    "dataset.isnull().sum()"
   ]
  },
  {
   "cell_type": "code",
   "execution_count": 9,
   "id": "67f21fe2",
   "metadata": {},
   "outputs": [
    {
     "data": {
      "text/plain": "<Figure size 1200x400 with 1 Axes>",
      "image/png": "[encoded data removed]"
     },
     "metadata": {},
     "output_type": "display_data"
    }
   ],
   "source": [
    "plt.figure(figsize=(12,4))\n",
    "sns.heatmap(dataset.isnull(), yticklabels=False,cbar=False,cmap='viridis')\n",
    "plt.savefig(\"Figure 1: Heatmap for Null Values\")"
   ]
  },
  {
   "cell_type": "markdown",
   "id": "1aaf01af",
   "metadata": {},
   "source": [
    "### Analyze the Data"
   ]
  },
  {
   "cell_type": "code",
   "execution_count": 10,
   "id": "1d3bb37c",
   "metadata": {},
   "outputs": [
    {
     "data": {
      "text/plain": "(1007, 7)"
     },
     "execution_count": 10,
     "metadata": {},
     "output_type": "execute_result"
    }
   ],
   "source": [
    "# see number of rows, number of columns\n",
    "dataset.shape"
   ]
  },
  {
   "cell_type": "code",
   "execution_count": 11,
   "id": "c6cdec9e",
   "metadata": {},
   "outputs": [
    {
     "name": "stdout",
     "output_type": "stream",
     "text": [
      "Total number of records =  7049\n"
     ]
    }
   ],
   "source": [
    "#TOTAL NUMBER OF RECORDS\n",
    "dataset.size\n",
    "print(\"Total number of records = \",dataset.size)"
   ]
  },
  {
   "cell_type": "code",
   "execution_count": 12,
   "id": "839980d6",
   "metadata": {},
   "outputs": [
    {
     "data": {
      "text/plain": "Index(['Open', 'High', 'Low', 'Close', 'Adj Close', 'Volume', 'Buy_Sell'], dtype='object')"
     },
     "execution_count": 12,
     "metadata": {},
     "output_type": "execute_result"
    }
   ],
   "source": [
    "# see columns names\n",
    "\n",
    "dataset.columns"
   ]
  },
  {
   "cell_type": "code",
   "execution_count": 13,
   "id": "000bdb8f",
   "metadata": {},
   "outputs": [
    {
     "data": {
      "text/plain": "Open         float64\nHigh         float64\nLow          float64\nClose        float64\nAdj Close    float64\nVolume         int64\nBuy_Sell       int32\ndtype: object"
     },
     "execution_count": 13,
     "metadata": {},
     "output_type": "execute_result"
    }
   ],
   "source": [
    "# See data types of the Columns\n",
    "\n",
    "dataset.dtypes"
   ]
  },
  {
   "cell_type": "code",
   "execution_count": 14,
   "id": "a25108bd",
   "metadata": {},
   "outputs": [
    {
     "name": "stdout",
     "output_type": "stream",
     "text": [
      "<class 'pandas.core.frame.DataFrame'>\n",
      "DatetimeIndex: 1007 entries, 2018-12-12 to 2022-12-09\n",
      "Data columns (total 7 columns):\n",
      " #   Column     Non-Null Count  Dtype  \n",
      "---  ------     --------------  -----  \n",
      " 0   Open       1007 non-null   float64\n",
      " 1   High       1007 non-null   float64\n",
      " 2   Low        1007 non-null   float64\n",
      " 3   Close      1007 non-null   float64\n",
      " 4   Adj Close  1007 non-null   float64\n",
      " 5   Volume     1007 non-null   int64  \n",
      " 6   Buy_Sell   1007 non-null   int32  \n",
      "dtypes: float64(5), int32(1), int64(1)\n",
      "memory usage: 59.0 KB\n"
     ]
    }
   ],
   "source": [
    "#View Data Info\n",
    "dataset.info()"
   ]
  },
  {
   "cell_type": "code",
   "execution_count": 15,
   "id": "058d9508",
   "metadata": {},
   "outputs": [
    {
     "data": {
      "text/plain": "array([[<AxesSubplot:title={'center':'Open'}>,\n        <AxesSubplot:title={'center':'High'}>,\n        <AxesSubplot:title={'center':'Low'}>],\n       [<AxesSubplot:title={'center':'Close'}>,\n        <AxesSubplot:title={'center':'Adj Close'}>,\n        <AxesSubplot:title={'center':'Volume'}>],\n       [<AxesSubplot:title={'center':'Buy_Sell'}>, <AxesSubplot:>,\n        <AxesSubplot:>]], dtype=object)"
     },
     "execution_count": 15,
     "metadata": {},
     "output_type": "execute_result"
    },
    {
     "data": {
      "text/plain": "<Figure size 1500x1500 with 9 Axes>",
      "image/png": "[encoded data removed]"
     },
     "metadata": {},
     "output_type": "display_data"
    }
   ],
   "source": [
    "# Histogram per each numerical column\n",
    "\n",
    "dataset.hist(figsize=(15, 15))"
   ]
  },
  {
   "cell_type": "code",
   "execution_count": 16,
   "id": "0fa51e2e",
   "metadata": {},
   "outputs": [
    {
     "data": {
      "text/plain": "              Open         High          Low        Close    Adj Close  \\\ncount  1007.000000  1007.000000  1007.000000  1007.000000  1007.000000   \nmean    109.410792   110.769409   108.123654   109.504849   108.211098   \nstd      43.876691    44.416329    43.309398    43.874543    44.046247   \nmin      35.994999    36.430000    35.500000    35.547501    34.257286   \n25%      65.334999    66.098751    64.924999    65.526253    64.096741   \n50%     122.309998   123.699997   120.419998   121.959999   120.509399   \n75%     146.994995   148.735001   145.595001   147.049995   146.310471   \nmax     182.630005   182.940002   179.119995   182.009995   180.683853   \n\n             Volume     Buy_Sell  \ncount  1.007000e+03  1007.000000  \nmean   1.134929e+08     0.064548  \nstd    5.426518e+07     0.998410  \nmin    3.519590e+07    -1.000000  \n25%    7.820055e+07    -1.000000  \n50%    9.839060e+07     1.000000  \n75%    1.306592e+08     1.000000  \nmax    4.265100e+08     1.000000  ",
      "text/html": "<div>\n<style scoped>\n    .dataframe tbody tr th:only-of-type {\n        vertical-align: middle;\n    }\n\n    .dataframe tbody tr th {\n        vertical-align: top;\n    }\n\n    .dataframe thead th {\n        text-align: right;\n    }\n</style>\n<table border=\"1\" class=\"dataframe\">\n  <thead>\n    <tr style=\"text-align: right;\">\n      <th></th>\n      <th>Open</th>\n      <th>High</th>\n      <th>Low</th>\n      <th>Close</th>\n      <th>Adj Close</th>\n      <th>Volume</th>\n      <th>Buy_Sell</th>\n    </tr>\n  </thead>\n  <tbody>\n    <tr>\n      <th>count</th>\n      <td>1007.000000</td>\n      <td>1007.000000</td>\n      <td>1007.000000</td>\n      <td>1007.000000</td>\n      <td>1007.000000</td>\n      <td>1.007000e+03</td>\n      <td>1007.000000</td>\n    </tr>\n    <tr>\n      <th>mean</th>\n      <td>109.410792</td>\n      <td>110.769409</td>\n      <td>108.123654</td>\n      <td>109.504849</td>\n      <td>108.211098</td>\n      <td>1.134929e+08</td>\n      <td>0.064548</td>\n    </tr>\n    <tr>\n      <th>std</th>\n      <td>43.876691</td>\n      <td>44.416329</td>\n      <td>43.309398</td>\n      <td>43.874543</td>\n      <td>44.046247</td>\n      <td>5.426518e+07</td>\n      <td>0.998410</td>\n    </tr>\n    <tr>\n      <th>min</th>\n      <td>35.994999</td>\n      <td>36.430000</td>\n      <td>35.500000</td>\n      <td>35.547501</td>\n      <td>34.257286</td>\n      <td>3.519590e+07</td>\n      <td>-1.000000</td>\n    </tr>\n    <tr>\n      <th>25%</th>\n      <td>65.334999</td>\n      <td>66.098751</td>\n      <td>64.924999</td>\n      <td>65.526253</td>\n      <td>64.096741</td>\n      <td>7.820055e+07</td>\n      <td>-1.000000</td>\n    </tr>\n    <tr>\n      <th>50%</th>\n      <td>122.309998</td>\n      <td>123.699997</td>\n      <td>120.419998</td>\n      <td>121.959999</td>\n      <td>120.509399</td>\n      <td>9.839060e+07</td>\n      <td>1.000000</td>\n    </tr>\n    <tr>\n      <th>75%</th>\n      <td>146.994995</td>\n      <td>148.735001</td>\n      <td>145.595001</td>\n      <td>147.049995</td>\n      <td>146.310471</td>\n      <td>1.306592e+08</td>\n      <td>1.000000</td>\n    </tr>\n    <tr>\n      <th>max</th>\n      <td>182.630005</td>\n      <td>182.940002</td>\n      <td>179.119995</td>\n      <td>182.009995</td>\n      <td>180.683853</td>\n      <td>4.265100e+08</td>\n      <td>1.000000</td>\n    </tr>\n  </tbody>\n</table>\n</div>"
     },
     "execution_count": 16,
     "metadata": {},
     "output_type": "execute_result"
    }
   ],
   "source": [
    "# The statistics per each column\n",
    "\n",
    "dataset.describe()"
   ]
  },
  {
   "cell_type": "markdown",
   "id": "e9b40129",
   "metadata": {},
   "source": [
    "### Define X and Y"
   ]
  },
  {
   "cell_type": "code",
   "execution_count": 17,
   "id": "8d5384c1",
   "metadata": {},
   "outputs": [],
   "source": [
    "dataset['Buy_Sell'] = dataset['Buy_Sell'].astype('int')"
   ]
  },
  {
   "cell_type": "code",
   "execution_count": 18,
   "id": "ddd1742a",
   "metadata": {},
   "outputs": [
    {
     "data": {
      "text/plain": "array([[4.25999985e+01, 4.29799995e+01, 4.22550011e+01, 4.07406044e+01,\n        1.42510800e+08],\n       [4.26225014e+01, 4.31425018e+01, 4.23875008e+01, 4.11863174e+01,\n        1.27594400e+08],\n       [4.22500000e+01, 4.22700005e+01, 4.13199997e+01, 3.98684502e+01,\n        1.62814800e+08],\n       [4.13624992e+01, 4.20875015e+01, 4.06824989e+01, 3.94974213e+01,\n        1.77151600e+08],\n       [4.13450012e+01, 4.18824997e+01, 4.10974998e+01, 4.00105972e+01,\n        1.35366000e+08]])"
     },
     "execution_count": 18,
     "metadata": {},
     "output_type": "execute_result"
    }
   ],
   "source": [
    "# Define X\n",
    "X = np.asarray(dataset[['Open', 'High', 'Low', 'Adj Close', 'Volume']])\n",
    "X[0:5]"
   ]
  },
  {
   "cell_type": "code",
   "execution_count": 19,
   "id": "a4d08cbd",
   "metadata": {},
   "outputs": [
    {
     "data": {
      "text/plain": "array([ 1, -1, -1,  1, -1])"
     },
     "execution_count": 19,
     "metadata": {},
     "output_type": "execute_result"
    }
   ],
   "source": [
    "# Define y\n",
    "y = np.asarray(dataset['Buy_Sell'])\n",
    "y[0:5]"
   ]
  },
  {
   "cell_type": "code",
   "execution_count": 20,
   "id": "a90aa7e1",
   "metadata": {},
   "outputs": [
    {
     "data": {
      "text/plain": "array([[-1.52345106, -1.52698559, -1.52164163, -1.53257142,  0.53500871],\n       [-1.52293793, -1.52332516, -1.51858074, -1.52244719,  0.25999233],\n       [-1.53143188, -1.54297862, -1.54324124, -1.55238213,  0.90935724],\n       [-1.55166909, -1.54708949, -1.55796824, -1.56080994,  1.17368743],\n       [-1.55206809, -1.55170725, -1.54838124, -1.54915331,  0.40327873]])"
     },
     "execution_count": 20,
     "metadata": {},
     "output_type": "execute_result"
    }
   ],
   "source": [
    "from sklearn import preprocessing\n",
    "X = preprocessing.StandardScaler().fit(X).transform(X)\n",
    "X[0:5]"
   ]
  },
  {
   "cell_type": "markdown",
   "id": "398b7d6b",
   "metadata": {},
   "source": [
    "### Split Train data and Test data"
   ]
  },
  {
   "cell_type": "code",
   "execution_count": 21,
   "id": "9dc156e0",
   "metadata": {},
   "outputs": [
    {
     "name": "stdout",
     "output_type": "stream",
     "text": [
      "Train set: (755, 5) (755,)\n",
      "Test set: (252, 5) (252,)\n"
     ]
    }
   ],
   "source": [
    "# Splitting the dataset into the Training set and Test set\n",
    "from sklearn.model_selection import train_test_split\n",
    "X_train, X_test, y_train, y_test = train_test_split(X, y, test_size = 0.25, random_state = 0)\n",
    "print ('Train set:', X_train.shape,  y_train.shape)\n",
    "print ('Test set:', X_test.shape,  y_test.shape)"
   ]
  },
  {
   "cell_type": "markdown",
   "id": "13213595",
   "metadata": {},
   "source": [
    "### Dataset Traning and Model Traning"
   ]
  },
  {
   "cell_type": "code",
   "execution_count": 22,
   "id": "19cd9c70",
   "metadata": {},
   "outputs": [
    {
     "data": {
      "text/plain": "LogisticRegression(C=0.01, solver='liblinear')"
     },
     "execution_count": 22,
     "metadata": {},
     "output_type": "execute_result"
    }
   ],
   "source": [
    "# Fitting Logistic Regression to the Training set\n",
    "from sklearn.linear_model import LogisticRegression\n",
    "from sklearn.metrics import confusion_matrix\n",
    "LR = LogisticRegression(C=0.01, solver='liblinear').fit(X_train,y_train)\n",
    "LR\n",
    "     "
   ]
  },
  {
   "cell_type": "markdown",
   "id": "a20431a6",
   "metadata": {},
   "source": [
    "### Comparison of Actual Values and Predictions Values"
   ]
  },
  {
   "cell_type": "code",
   "execution_count": 23,
   "id": "fdf6bc1a",
   "metadata": {},
   "outputs": [
    {
     "data": {
      "text/plain": "array([-1,  1,  1, -1,  1, -1,  1, -1,  1,  1, -1,  1,  1,  1, -1, -1,  1,\n       -1,  1,  1,  1,  1, -1, -1,  1, -1,  1,  1,  1,  1, -1, -1,  1, -1,\n        1, -1,  1,  1, -1, -1, -1,  1,  1,  1, -1,  1,  1,  1,  1, -1,  1,\n       -1,  1, -1,  1,  1,  1, -1, -1,  1,  1, -1,  1,  1,  1, -1, -1,  1,\n        1,  1, -1,  1,  1,  1, -1, -1,  1,  1, -1,  1, -1,  1, -1, -1,  1,\n        1,  1, -1,  1, -1,  1,  1,  1, -1,  1, -1,  1, -1,  1,  1,  1,  1,\n        1, -1,  1, -1, -1,  1,  1,  1,  1,  1, -1,  1, -1, -1, -1, -1, -1,\n        1,  1, -1,  1, -1,  1,  1,  1, -1, -1,  1,  1,  1, -1,  1,  1, -1,\n        1, -1, -1,  1,  1,  1,  1,  1, -1,  1,  1,  1, -1, -1, -1,  1, -1,\n        1,  1,  1,  1, -1, -1,  1,  1, -1, -1, -1, -1, -1, -1, -1, -1, -1,\n       -1,  1,  1, -1, -1,  1,  1, -1,  1,  1, -1, -1,  1,  1, -1,  1, -1,\n        1, -1,  1,  1,  1, -1,  1,  1,  1,  1, -1,  1,  1,  1, -1, -1, -1,\n       -1,  1,  1,  1,  1, -1,  1, -1,  1, -1, -1,  1, -1,  1, -1,  1, -1,\n       -1,  1,  1,  1,  1,  1, -1,  1, -1,  1,  1, -1,  1, -1,  1, -1, -1,\n        1,  1,  1,  1,  1, -1,  1,  1,  1,  1,  1,  1, -1, -1])"
     },
     "execution_count": 23,
     "metadata": {},
     "output_type": "execute_result"
    }
   ],
   "source": [
    "# Predicting the Test set results\n",
    "yhat = LR.predict(X_test)\n",
    "yhat"
   ]
  },
  {
   "cell_type": "code",
   "execution_count": 24,
   "id": "b32cf27a",
   "metadata": {},
   "outputs": [
    {
     "data": {
      "text/plain": "array([[0.52187185, 0.47812815],\n       [0.48118107, 0.51881893],\n       [0.44314933, 0.55685067],\n       [0.51459779, 0.48540221],\n       [0.4524004 , 0.5475996 ],\n       [0.52476387, 0.47523613],\n       [0.44157694, 0.55842306],\n       [0.50372752, 0.49627248],\n       [0.49492507, 0.50507493],\n       [0.46644638, 0.53355362],\n       [0.51021861, 0.48978139],\n       [0.43407385, 0.56592615],\n       [0.49413172, 0.50586828],\n       [0.49195442, 0.50804558],\n       [0.50383897, 0.49616103],\n       [0.50120726, 0.49879274],\n       [0.47600511, 0.52399489],\n       [0.52115178, 0.47884822],\n       [0.4423167 , 0.5576833 ],\n       [0.49830467, 0.50169533],\n       [0.48691722, 0.51308278],\n       [0.46858512, 0.53141488],\n       [0.50963307, 0.49036693],\n       [0.50898173, 0.49101827],\n       [0.48273199, 0.51726801],\n       [0.50231346, 0.49768654],\n       [0.48979418, 0.51020582],\n       [0.47593752, 0.52406248],\n       [0.46356365, 0.53643635],\n       [0.46348969, 0.53651031],\n       [0.52107192, 0.47892808],\n       [0.50362699, 0.49637301],\n       [0.44417612, 0.55582388],\n       [0.50758801, 0.49241199],\n       [0.43469482, 0.56530518],\n       [0.50536712, 0.49463288],\n       [0.4581633 , 0.5418367 ],\n       [0.46945138, 0.53054862],\n       [0.5111655 , 0.4888345 ],\n       [0.52117287, 0.47882713],\n       [0.50447305, 0.49552695],\n       [0.49186736, 0.50813264],\n       [0.43595149, 0.56404851],\n       [0.44858243, 0.55141757],\n       [0.51912485, 0.48087515],\n       [0.45069572, 0.54930428],\n       [0.44948548, 0.55051452],\n       [0.47664978, 0.52335022],\n       [0.46702178, 0.53297822],\n       [0.51481933, 0.48518067],\n       [0.4633118 , 0.5366882 ],\n       [0.50662623, 0.49337377],\n       [0.49554225, 0.50445775],\n       [0.50467004, 0.49532996],\n       [0.44307915, 0.55692085],\n       [0.44720316, 0.55279684],\n       [0.47498536, 0.52501464],\n       [0.51699038, 0.48300962],\n       [0.50341195, 0.49658805],\n       [0.47700994, 0.52299006],\n       [0.48618004, 0.51381996],\n       [0.51964566, 0.48035434],\n       [0.49988628, 0.50011372],\n       [0.49482965, 0.50517035],\n       [0.46672231, 0.53327769],\n       [0.50203336, 0.49796664],\n       [0.50154677, 0.49845323],\n       [0.47849   , 0.52151   ],\n       [0.48850243, 0.51149757],\n       [0.4404279 , 0.5595721 ],\n       [0.51244872, 0.48755128],\n       [0.43888703, 0.56111297],\n       [0.45152134, 0.54847866],\n       [0.48990323, 0.51009677],\n       [0.505846  , 0.494154  ],\n       [0.51580519, 0.48419481],\n       [0.46607901, 0.53392099],\n       [0.4716545 , 0.5283455 ],\n       [0.50413061, 0.49586939],\n       [0.44056671, 0.55943329],\n       [0.52205542, 0.47794458],\n       [0.49896203, 0.50103797],\n       [0.50796325, 0.49203675],\n       [0.52030181, 0.47969819],\n       [0.4567728 , 0.5432272 ],\n       [0.48750849, 0.51249151],\n       [0.45782284, 0.54217716],\n       [0.51428382, 0.48571618],\n       [0.46442448, 0.53557552],\n       [0.50798897, 0.49201103],\n       [0.49241521, 0.50758479],\n       [0.47546237, 0.52453763],\n       [0.46564878, 0.53435122],\n       [0.50796223, 0.49203777],\n       [0.47743515, 0.52256485],\n       [0.52582857, 0.47417143],\n       [0.46040722, 0.53959278],\n       [0.52000313, 0.47999687],\n       [0.45554459, 0.54445541],\n       [0.49459511, 0.50540489],\n       [0.49697047, 0.50302953],\n       [0.49239382, 0.50760618],\n       [0.47086688, 0.52913312],\n       [0.52774983, 0.47225017],\n       [0.49361263, 0.50638737],\n       [0.51613944, 0.48386056],\n       [0.51123545, 0.48876455],\n       [0.49104269, 0.50895731],\n       [0.45923603, 0.54076397],\n       [0.49501117, 0.50498883],\n       [0.44425155, 0.55574845],\n       [0.45104736, 0.54895264],\n       [0.52963732, 0.47036268],\n       [0.46333655, 0.53666345],\n       [0.50162784, 0.49837216],\n       [0.5173662 , 0.4826338 ],\n       [0.5208899 , 0.4791101 ],\n       [0.52074442, 0.47925558],\n       [0.52417539, 0.47582461],\n       [0.44254016, 0.55745984],\n       [0.49808192, 0.50191808],\n       [0.50403117, 0.49596883],\n       [0.49569989, 0.50430011],\n       [0.51083093, 0.48916907],\n       [0.48580552, 0.51419448],\n       [0.45834638, 0.54165362],\n       [0.4795236 , 0.5204764 ],\n       [0.5072523 , 0.4927477 ],\n       [0.51287602, 0.48712398],\n       [0.49464259, 0.50535741],\n       [0.44356333, 0.55643667],\n       [0.49317272, 0.50682728],\n       [0.5066421 , 0.4933579 ],\n       [0.49238195, 0.50761805],\n       [0.49696003, 0.50303997],\n       [0.51911166, 0.48088834],\n       [0.46137968, 0.53862032],\n       [0.50441498, 0.49558502],\n       [0.50592296, 0.49407704],\n       [0.49577283, 0.50422717],\n       [0.46751545, 0.53248455],\n       [0.44780016, 0.55219984],\n       [0.44057555, 0.55942445],\n       [0.49455646, 0.50544354],\n       [0.51455666, 0.48544334],\n       [0.44807528, 0.55192472],\n       [0.49615656, 0.50384344],\n       [0.48122412, 0.51877588],\n       [0.50247178, 0.49752822],\n       [0.5014924 , 0.4985076 ],\n       [0.51246338, 0.48753662],\n       [0.47061102, 0.52938898],\n       [0.50986899, 0.49013101],\n       [0.440073  , 0.559927  ],\n       [0.44134714, 0.55865286],\n       [0.47021504, 0.52978496],\n       [0.43599077, 0.56400923],\n       [0.5265246 , 0.4734754 ],\n       [0.52531394, 0.47468606],\n       [0.49274478, 0.50725522],\n       [0.44879794, 0.55120206],\n       [0.51640469, 0.48359531],\n       [0.50312177, 0.49687823],\n       [0.50917538, 0.49082462],\n       [0.50856151, 0.49143849],\n       [0.50966809, 0.49033191],\n       [0.50590545, 0.49409455],\n       [0.51557855, 0.48442145],\n       [0.51162583, 0.48837417],\n       [0.50336332, 0.49663668],\n       [0.51115894, 0.48884106],\n       [0.48982528, 0.51017472],\n       [0.48939964, 0.51060036],\n       [0.50368415, 0.49631585],\n       [0.52013898, 0.47986102],\n       [0.46511385, 0.53488615],\n       [0.45188679, 0.54811321],\n       [0.52119801, 0.47880199],\n       [0.43945534, 0.56054466],\n       [0.48464924, 0.51535076],\n       [0.53561439, 0.46438561],\n       [0.5052555 , 0.4947445 ],\n       [0.45041676, 0.54958324],\n       [0.48036669, 0.51963331],\n       [0.5131981 , 0.4868019 ],\n       [0.44079174, 0.55920826],\n       [0.53242731, 0.46757269],\n       [0.49179822, 0.50820178],\n       [0.52284497, 0.47715503],\n       [0.48117593, 0.51882407],\n       [0.46318203, 0.53681797],\n       [0.49068344, 0.50931656],\n       [0.50524628, 0.49475372],\n       [0.479332  , 0.520668  ],\n       [0.46563924, 0.53436076],\n       [0.49558617, 0.50441383],\n       [0.49538815, 0.50461185],\n       [0.52145602, 0.47854398],\n       [0.4516819 , 0.5483181 ],\n       [0.44940232, 0.55059768],\n       [0.48665373, 0.51334627],\n       [0.51079492, 0.48920508],\n       [0.52632846, 0.47367154],\n       [0.52487734, 0.47512266],\n       [0.50988178, 0.49011822],\n       [0.44143523, 0.55856477],\n       [0.4983524 , 0.5016476 ],\n       [0.45968336, 0.54031664],\n       [0.49189713, 0.50810287],\n       [0.5171844 , 0.4828156 ],\n       [0.45852985, 0.54147015],\n       [0.50145887, 0.49854113],\n       [0.46248264, 0.53751736],\n       [0.50458161, 0.49541839],\n       [0.51108156, 0.48891844],\n       [0.49854663, 0.50145337],\n       [0.52275343, 0.47724657],\n       [0.44089125, 0.55910875],\n       [0.53844522, 0.46155478],\n       [0.44021561, 0.55978439],\n       [0.50417107, 0.49582893],\n       [0.51159612, 0.48840388],\n       [0.49785367, 0.50214633],\n       [0.46906888, 0.53093112],\n       [0.43833778, 0.56166222],\n       [0.43573107, 0.56426893],\n       [0.49890358, 0.50109642],\n       [0.51875719, 0.48124281],\n       [0.4884687 , 0.5115313 ],\n       [0.51041143, 0.48958857],\n       [0.46170574, 0.53829426],\n       [0.47181812, 0.52818188],\n       [0.5180781 , 0.4819219 ],\n       [0.49488656, 0.50511344],\n       [0.52870237, 0.47129763],\n       [0.4454407 , 0.5545593 ],\n       [0.50015551, 0.49984449],\n       [0.50425793, 0.49574207],\n       [0.45169696, 0.54830304],\n       [0.48945592, 0.51054408],\n       [0.45976917, 0.54023083],\n       [0.43933319, 0.56066681],\n       [0.44302159, 0.55697841],\n       [0.50325764, 0.49674236],\n       [0.44500918, 0.55499082],\n       [0.49110963, 0.50889037],\n       [0.44125113, 0.55874887],\n       [0.48915891, 0.51084109],\n       [0.49303073, 0.50696927],\n       [0.44722721, 0.55277279],\n       [0.50417897, 0.49582103],\n       [0.5042124 , 0.4957876 ]])"
     },
     "execution_count": 24,
     "metadata": {},
     "output_type": "execute_result"
    }
   ],
   "source": [
    "# predict_proba is returns of estimates for all classes, ordered by the label of classes. \n",
    "# The first column is the probability of class 1, P(Y=1|X), and second column is probability of class 0, P(Y=0|X)\n",
    "yhat_prob = LR.predict_proba(X_test)\n",
    "yhat_prob"
   ]
  },
  {
   "cell_type": "code",
   "execution_count": 25,
   "id": "d1981c07",
   "metadata": {},
   "outputs": [
    {
     "data": {
      "text/plain": "0.45226130653266333"
     },
     "execution_count": 25,
     "metadata": {},
     "output_type": "execute_result"
    }
   ],
   "source": [
    "# Making the Confusion Matrix\n",
    "from sklearn.metrics import jaccard_score\n",
    "jaccard_score(y_test, yhat)"
   ]
  },
  {
   "cell_type": "code",
   "execution_count": 26,
   "id": "d53aa4d9",
   "metadata": {},
   "outputs": [
    {
     "name": "stdout",
     "output_type": "stream",
     "text": [
      "[[90  0]\n",
      " [ 0  0]]\n"
     ]
    }
   ],
   "source": [
    "# Confusion Matrix\n",
    "\n",
    "from sklearn.metrics import classification_report, confusion_matrix\n",
    "import itertools\n",
    "def plot_confusion_matrix(cm, classes,\n",
    "                          normalize=False,\n",
    "                          title='Confusion matrix',\n",
    "                          cmap=plt.cm.Blues):\n",
    "    \"\"\"\n",
    "    This function prints and plots the confusion matrix.\n",
    "    Normalization can be applied by setting `normalize=True`.\n",
    "    \"\"\"\n",
    "    if normalize:\n",
    "        cm = cm.astype('float') / cm.sum(axis=1)[:, np.newaxis]\n",
    "        print(\"Normalized confusion matrix\")\n",
    "    else:\n",
    "        print('Confusion matrix, without normalization')\n",
    "\n",
    "    print(cm)\n",
    "\n",
    "    plt.imshow(cm, interpolation='nearest', cmap=cmap)\n",
    "    plt.title(title)\n",
    "    plt.colorbar()\n",
    "    tick_marks = np.arange(len(classes))\n",
    "    plt.xticks(tick_marks, classes, rotation=45)\n",
    "    plt.yticks(tick_marks, classes)\n",
    "\n",
    "    fmt = '.2f' if normalize else 'd'\n",
    "    thresh = cm.max() / 2.\n",
    "    for i, j in itertools.product(range(cm.shape[0]), range(cm.shape[1])):\n",
    "        plt.text(j, i, format(cm[i, j], fmt),\n",
    "                 horizontalalignment=\"center\",\n",
    "                 color=\"white\" if cm[i, j] > thresh else \"black\")\n",
    "\n",
    "    plt.tight_layout()\n",
    "    plt.ylabel('True label')\n",
    "    plt.xlabel('Predicted label')\n",
    "print(confusion_matrix(y_test, yhat, labels=[1,0]))"
   ]
  },
  {
   "cell_type": "markdown",
   "id": "9753712e",
   "metadata": {},
   "source": [
    "### Accuracy and Loss Function Values of the Model"
   ]
  },
  {
   "cell_type": "code",
   "execution_count": 27,
   "id": "3b339652",
   "metadata": {},
   "outputs": [
    {
     "name": "stdout",
     "output_type": "stream",
     "text": [
      "Confusion matrix, without normalization\n",
      "[[90  0]\n",
      " [ 0  0]]\n"
     ]
    },
    {
     "data": {
      "text/plain": "<Figure size 640x480 with 2 Axes>",
      "image/png": "[encoded data removed]"
     },
     "metadata": {},
     "output_type": "display_data"
    }
   ],
   "source": [
    "# Compute confusion matrix\n",
    "cnf_matrix = confusion_matrix(y_test, yhat, labels=[1,0])\n",
    "np.set_printoptions(precision=2)\n",
    "\n",
    "\n",
    "# Plot non-normalized confusion matrix\n",
    "plt.figure()\n",
    "plot_confusion_matrix(cnf_matrix, classes=['Buy_Sell=1','Buy_Sell=0'],normalize= False,  title='Confusion matrix')"
   ]
  },
  {
   "cell_type": "code",
   "execution_count": 28,
   "id": "769ea0ac",
   "metadata": {},
   "outputs": [
    {
     "name": "stdout",
     "output_type": "stream",
     "text": [
      "              precision    recall  f1-score   support\n",
      "\n",
      "          -1       0.51      0.48      0.49       111\n",
      "           1       0.61      0.64      0.62       141\n",
      "\n",
      "    accuracy                           0.57       252\n",
      "   macro avg       0.56      0.56      0.56       252\n",
      "weighted avg       0.56      0.57      0.57       252\n",
      "\n"
     ]
    }
   ],
   "source": [
    "print(classification_report(y_test, yhat))"
   ]
  },
  {
   "cell_type": "code",
   "execution_count": 29,
   "id": "a1b069c1",
   "metadata": {},
   "outputs": [
    {
     "name": "stdout",
     "output_type": "stream",
     "text": [
      "Accuracy: 0.5674603174603174\n",
      "Precision: 0.6081081081081081\n",
      "Recall: 0.6382978723404256\n"
     ]
    }
   ],
   "source": [
    "from sklearn import metrics\n",
    "\n",
    "print(\"Accuracy:\",metrics.accuracy_score(y_test, yhat))\n",
    "print(\"Precision:\",metrics.precision_score(y_test, yhat))\n",
    "print(\"Recall:\",metrics.recall_score(y_test, yhat))"
   ]
  },
  {
   "cell_type": "code",
   "execution_count": 30,
   "id": "96013aaf",
   "metadata": {},
   "outputs": [
    {
     "data": {
      "text/plain": "0.6855965442368789"
     },
     "execution_count": 30,
     "metadata": {},
     "output_type": "execute_result"
    }
   ],
   "source": [
    "# Log loss( Logarithmic loss) measures the performance of a classifier where the predicted output is a probability value between 0 and 1.\n",
    "from sklearn.metrics import log_loss\n",
    "log_loss(y_test, yhat_prob)"
   ]
  },
  {
   "cell_type": "code",
   "execution_count": 31,
   "id": "bf733a20",
   "metadata": {},
   "outputs": [
    {
     "name": "stdout",
     "output_type": "stream",
     "text": [
      "LogLoss: : 0.68\n"
     ]
    }
   ],
   "source": [
    "LR2 = LogisticRegression(C=0.01, solver='sag').fit(X_train,y_train)\n",
    "yhat_prob2 = LR2.predict_proba(X_test)\n",
    "print (\"LogLoss: : %.2f\" % log_loss(y_test, yhat_prob2))"
   ]
  },
  {
   "cell_type": "code",
   "execution_count": 32,
   "id": "9b735611",
   "metadata": {},
   "outputs": [
    {
     "data": {
      "text/plain": "<Figure size 640x480 with 1 Axes>",
      "image/png": "[encoded data removed]"
     },
     "metadata": {},
     "output_type": "display_data"
    }
   ],
   "source": [
    "y_pred_proba = LR.predict_proba(X_test)[::,1]\n",
    "fpr, tpr, _ = metrics.roc_curve(y_test,  y_pred_proba)\n",
    "auc = metrics.roc_auc_score(y_test, y_pred_proba)\n",
    "plt.plot(fpr,tpr,label=\"data 1, auc=\"+str(auc))\n",
    "plt.legend(loc=4)\n",
    "plt.show()"
   ]
  },
  {
   "cell_type": "code",
   "execution_count": 33,
   "id": "e2be711f",
   "metadata": {},
   "outputs": [
    {
     "name": "stdout",
     "output_type": "stream",
     "text": [
      "LogLoss: : 0.68\n"
     ]
    }
   ],
   "source": [
    "print(\"LogLoss: : %.2f\" % log_loss(y_test, yhat_prob2))"
   ]
  },
  {
   "cell_type": "code",
   "execution_count": 34,
   "id": "a4f83a7f",
   "metadata": {},
   "outputs": [
    {
     "name": "stdout",
     "output_type": "stream",
     "text": [
      "Accuracy: 0.5674603174603174\n"
     ]
    }
   ],
   "source": [
    "print(\"Accuracy:\",metrics.accuracy_score(y_test, yhat))"
   ]
  }
 ],
 "metadata": {
  "kernelspec": {
   "display_name": "Python 3 (ipykernel)",
   "language": "python",
   "name": "python3"
  },
  "language_info": {
   "codemirror_mode": {
    "name": "ipython",
    "version": 3
   },
   "file_extension": ".py",
   "mimetype": "text/x-python",
   "name": "python",
   "nbconvert_exporter": "python",
   "pygments_lexer": "ipython3",
   "version": "3.9.13"
  }
 },
 "nbformat": 4,
 "nbformat_minor": 5
}
